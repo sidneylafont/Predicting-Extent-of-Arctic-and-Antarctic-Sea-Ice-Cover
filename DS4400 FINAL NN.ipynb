{
 "cells": [
  {
   "cell_type": "code",
   "execution_count": 53,
   "id": "46da61e5",
   "metadata": {
    "scrolled": false
   },
   "outputs": [],
   "source": [
    "import numpy as np\n",
    "import pandas as pd\n",
    "import torch as T\n",
    "import torch.nn as nn\n",
    "import torch.nn.functional as F\n",
    "import torch.optim as optim\n",
    "import matplotlib.pyplot as plt\n",
    "\n",
    "from sklearn.metrics import mean_squared_error, r2_score, mean_absolute_percentage_error"
   ]
  },
  {
   "cell_type": "code",
   "execution_count": 2,
   "id": "d8750346",
   "metadata": {},
   "outputs": [],
   "source": [
    "#import dataset\n",
    "ds = pd.read_csv('2500_randomly_choosen_days_with_data.csv')"
   ]
  },
  {
   "cell_type": "code",
   "execution_count": 3,
   "id": "fff14816",
   "metadata": {},
   "outputs": [
    {
     "data": {
      "text/html": [
       "<div>\n",
       "<style scoped>\n",
       "    .dataframe tbody tr th:only-of-type {\n",
       "        vertical-align: middle;\n",
       "    }\n",
       "\n",
       "    .dataframe tbody tr th {\n",
       "        vertical-align: top;\n",
       "    }\n",
       "\n",
       "    .dataframe thead th {\n",
       "        text-align: right;\n",
       "    }\n",
       "</style>\n",
       "<table border=\"1\" class=\"dataframe\">\n",
       "  <thead>\n",
       "    <tr style=\"text-align: right;\">\n",
       "      <th></th>\n",
       "      <th>Unnamed: 0</th>\n",
       "      <th>avg_temp</th>\n",
       "      <th>co2</th>\n",
       "      <th>sea_ice_extent</th>\n",
       "      <th>num_natural_disasters</th>\n",
       "    </tr>\n",
       "  </thead>\n",
       "  <tbody>\n",
       "    <tr>\n",
       "      <th>count</th>\n",
       "      <td>2205.000000</td>\n",
       "      <td>2205.000000</td>\n",
       "      <td>2205.000000</td>\n",
       "      <td>2205.000000</td>\n",
       "      <td>2205.000000</td>\n",
       "    </tr>\n",
       "    <tr>\n",
       "      <th>mean</th>\n",
       "      <td>1102.000000</td>\n",
       "      <td>9.093069</td>\n",
       "      <td>370.581837</td>\n",
       "      <td>11.610827</td>\n",
       "      <td>452.292517</td>\n",
       "    </tr>\n",
       "    <tr>\n",
       "      <th>std</th>\n",
       "      <td>636.672993</td>\n",
       "      <td>4.130893</td>\n",
       "      <td>18.282012</td>\n",
       "      <td>5.584291</td>\n",
       "      <td>231.389085</td>\n",
       "    </tr>\n",
       "    <tr>\n",
       "      <th>min</th>\n",
       "      <td>0.000000</td>\n",
       "      <td>2.558000</td>\n",
       "      <td>333.400000</td>\n",
       "      <td>2.281000</td>\n",
       "      <td>21.000000</td>\n",
       "    </tr>\n",
       "    <tr>\n",
       "      <th>25%</th>\n",
       "      <td>551.000000</td>\n",
       "      <td>4.724000</td>\n",
       "      <td>355.430000</td>\n",
       "      <td>6.089000</td>\n",
       "      <td>257.000000</td>\n",
       "    </tr>\n",
       "    <tr>\n",
       "      <th>50%</th>\n",
       "      <td>1102.000000</td>\n",
       "      <td>9.313000</td>\n",
       "      <td>369.940000</td>\n",
       "      <td>12.339000</td>\n",
       "      <td>465.000000</td>\n",
       "    </tr>\n",
       "    <tr>\n",
       "      <th>75%</th>\n",
       "      <td>1653.000000</td>\n",
       "      <td>12.930000</td>\n",
       "      <td>386.280000</td>\n",
       "      <td>17.167000</td>\n",
       "      <td>624.000000</td>\n",
       "    </tr>\n",
       "    <tr>\n",
       "      <th>max</th>\n",
       "      <td>2204.000000</td>\n",
       "      <td>15.482000</td>\n",
       "      <td>404.510000</td>\n",
       "      <td>19.978000</td>\n",
       "      <td>911.000000</td>\n",
       "    </tr>\n",
       "  </tbody>\n",
       "</table>\n",
       "</div>"
      ],
      "text/plain": [
       "        Unnamed: 0     avg_temp          co2  sea_ice_extent  \\\n",
       "count  2205.000000  2205.000000  2205.000000     2205.000000   \n",
       "mean   1102.000000     9.093069   370.581837       11.610827   \n",
       "std     636.672993     4.130893    18.282012        5.584291   \n",
       "min       0.000000     2.558000   333.400000        2.281000   \n",
       "25%     551.000000     4.724000   355.430000        6.089000   \n",
       "50%    1102.000000     9.313000   369.940000       12.339000   \n",
       "75%    1653.000000    12.930000   386.280000       17.167000   \n",
       "max    2204.000000    15.482000   404.510000       19.978000   \n",
       "\n",
       "       num_natural_disasters  \n",
       "count            2205.000000  \n",
       "mean              452.292517  \n",
       "std               231.389085  \n",
       "min                21.000000  \n",
       "25%               257.000000  \n",
       "50%               465.000000  \n",
       "75%               624.000000  \n",
       "max               911.000000  "
      ]
     },
     "execution_count": 3,
     "metadata": {},
     "output_type": "execute_result"
    }
   ],
   "source": [
    "ds.describe()"
   ]
  },
  {
   "cell_type": "code",
   "execution_count": 4,
   "id": "4bf1b505",
   "metadata": {},
   "outputs": [],
   "source": [
    "#split into independent and dependent variables\n",
    "X = ds[['avg_temp', 'co2', 'num_natural_disasters']]\n",
    "Y = ds[['sea_ice_extent']]"
   ]
  },
  {
   "cell_type": "code",
   "execution_count": 5,
   "id": "935301ee",
   "metadata": {},
   "outputs": [],
   "source": [
    "#split training and testing as 75%-25%\n",
    "X_trn = X.iloc[:1653, :].to_numpy()\n",
    "X_tst = X.iloc[1653:, :].to_numpy()\n",
    "Y_trn = Y.iloc[:1653, :].to_numpy()\n",
    "Y_tst = Y.iloc[1653:, :].to_numpy()"
   ]
  },
  {
   "cell_type": "code",
   "execution_count": 22,
   "id": "15ffaf14",
   "metadata": {},
   "outputs": [],
   "source": [
    "#Define linear regression model\n",
    "class LinearRegressionModel(nn.Module):\n",
    "    def __init__(self, input_dims, output_dims, fc_dims=[]):\n",
    "        super(LinearRegressionModel, self).__init__()\n",
    "        self.input_dims = input_dims\n",
    "        self.output_dims = output_dims\n",
    "        self.fc_dims = fc_dims\n",
    "        self.nn_layers = nn.ModuleList()\n",
    "\n",
    "        self.makeLayer()\n",
    "        \n",
    "        self.criterion = nn.MSELoss(size_average = False)\n",
    "        self.optimizer = optim.Adam(self.parameters(), lr=0.01)\n",
    "        \n",
    "    def makeLayer(self):\n",
    "        if len(self.fc_dims) == 0:\n",
    "                self.nn_layers.append(nn.Linear(self.input_dims, self.output_dims))\n",
    "                return \n",
    "        \n",
    "        self.nn_layers.append(nn.Linear(self.input_dims, self.fc_dims[0]))\n",
    "        for i in range(len(self.fc_dims)-1):\n",
    "            self.nn_layers.append(nn.Linear(self.fc_dims[i], self.fc_dims[i+1]))\n",
    "        self.nn_layers.append(nn.Linear(self.fc_dims[-1], self.output_dims))\n",
    "        \n",
    "    def forward(self, data):\n",
    "        x = data\n",
    "        for layer in self.nn_layers:\n",
    "            x = layer(x)\n",
    "        return x"
   ]
  },
  {
   "cell_type": "code",
   "execution_count": 32,
   "id": "d2ae7f51",
   "metadata": {},
   "outputs": [],
   "source": [
    "#Define regression model\n",
    "class RegressionModel(nn.Module):\n",
    "    def __init__(self, input_dims, output_dims, fc_dims=[]):\n",
    "        super(RegressionModel, self).__init__()\n",
    "        self.input_dims = input_dims\n",
    "        self.output_dims = output_dims\n",
    "        self.fc_dims = fc_dims\n",
    "        self.nn_layers = nn.ModuleList()\n",
    "\n",
    "        self.makeLayer()\n",
    "        \n",
    "        self.criterion = nn.MSELoss(size_average = False)\n",
    "        self.optimizer = optim.Adam(self.parameters(), lr=0.01)\n",
    "        \n",
    "    def makeLayer(self):\n",
    "        if len(self.fc_dims) == 0:\n",
    "                self.nn_layers.append(nn.Linear(self.input_dims, self.output_dims))\n",
    "                return \n",
    "        \n",
    "        self.nn_layers.append(nn.Linear(self.input_dims, self.fc_dims[0]))\n",
    "        for i in range(len(self.fc_dims)-1):\n",
    "            self.nn_layers.append(nn.Linear(self.fc_dims[i], self.fc_dims[i+1]))\n",
    "        self.nn_layers.append(nn.Linear(self.fc_dims[-1], self.output_dims))\n",
    "        \n",
    "    def forward(self, data):\n",
    "        x = data\n",
    "        for layer in self.nn_layers:\n",
    "            x = layer(x)\n",
    "        x = F.sigmoid(x)\n",
    "        return x"
   ]
  },
  {
   "cell_type": "code",
   "execution_count": 71,
   "id": "13d6549c",
   "metadata": {},
   "outputs": [
    {
     "name": "stderr",
     "output_type": "stream",
     "text": [
      "/home/dsapienza/anaconda3/envs/reinforcement-learning-env/lib/python3.9/site-packages/torch/nn/_reduction.py:42: UserWarning: size_average and reduce args will be deprecated, please use reduction='sum' instead.\n",
      "  warnings.warn(warning.format(ret))\n"
     ]
    },
    {
     "name": "stdout",
     "output_type": "stream",
     "text": [
      "Neurons in hidden layer:  1\n",
      "Mean Squared Error:\n",
      "\tTraining: 20.60478080623454\n",
      "\tTesting: 18.426853639977548\n",
      "R2 Score:\n",
      "\tTraining: 0.3438360005443518\n",
      "\tTesting: 0.3940950124492404\n",
      "Mean Absolute Percentage Error:\n",
      "\tTraining: 0.47333193398720835\n",
      "\tTesting: 0.4146922009863085\n",
      "\n",
      "\n",
      "\n",
      "Neurons in hidden layer:  2\n",
      "Mean Squared Error:\n",
      "\tTraining: 20.649356386911563\n",
      "\tTesting: 18.027415783006013\n",
      "R2 Score:\n",
      "\tTraining: 0.34241648089159993\n",
      "\tTesting: 0.4072291803589788\n",
      "Mean Absolute Percentage Error:\n",
      "\tTraining: 0.4718058692713546\n",
      "\tTesting: 0.42201691017535164\n",
      "\n",
      "\n",
      "\n",
      "Neurons in hidden layer:  3\n",
      "Mean Squared Error:\n",
      "\tTraining: 21.561962631127294\n",
      "\tTesting: 17.802469647698537\n",
      "R2 Score:\n",
      "\tTraining: 0.31335432445499256\n",
      "\tTesting: 0.41462577600010175\n",
      "Mean Absolute Percentage Error:\n",
      "\tTraining: 0.4879937298696834\n",
      "\tTesting: 0.4381255210103522\n",
      "\n",
      "\n",
      "\n",
      "Neurons in hidden layer:  4\n",
      "Mean Squared Error:\n",
      "\tTraining: 21.257017273279544\n",
      "\tTesting: 17.807951700703466\n",
      "R2 Score:\n",
      "\tTraining: 0.323065379743689\n",
      "\tTesting: 0.4144455171603345\n",
      "Mean Absolute Percentage Error:\n",
      "\tTraining: 0.4774025905703629\n",
      "\tTesting: 0.43705743078483617\n",
      "\n",
      "\n",
      "\n",
      "Neurons in hidden layer:  5\n",
      "Mean Squared Error:\n",
      "\tTraining: 21.613480204357593\n",
      "\tTesting: 18.089014181672788\n",
      "R2 Score:\n",
      "\tTraining: 0.3117137354474738\n",
      "\tTesting: 0.40520372459173026\n",
      "Mean Absolute Percentage Error:\n",
      "\tTraining: 0.4826217562170064\n",
      "\tTesting: 0.42858119843262915\n",
      "\n",
      "\n",
      "\n",
      "Neurons in hidden layer:  6\n",
      "Mean Squared Error:\n",
      "\tTraining: 22.457491005456344\n",
      "\tTesting: 17.909941496801704\n",
      "R2 Score:\n",
      "\tTraining: 0.2848360167257511\n",
      "\tTesting: 0.4110919263985813\n",
      "Mean Absolute Percentage Error:\n",
      "\tTraining: 0.4924018751632537\n",
      "\tTesting: 0.4464182850611209\n",
      "\n",
      "\n",
      "\n",
      "Neurons in hidden layer:  7\n",
      "Mean Squared Error:\n",
      "\tTraining: 21.942590757668643\n",
      "\tTesting: 17.673688177546904\n",
      "R2 Score:\n",
      "\tTraining: 0.3012331339329797\n",
      "\tTesting: 0.4188603206811159\n",
      "Mean Absolute Percentage Error:\n",
      "\tTraining: 0.486012949910532\n",
      "\tTesting: 0.5044378465128782\n",
      "\n",
      "\n",
      "\n",
      "Neurons in hidden layer:  8\n",
      "Mean Squared Error:\n",
      "\tTraining: 22.403812156868323\n",
      "\tTesting: 17.616558137240553\n",
      "R2 Score:\n",
      "\tTraining: 0.2865454320457643\n",
      "\tTesting: 0.4207388495410562\n",
      "Mean Absolute Percentage Error:\n",
      "\tTraining: 0.491280613117556\n",
      "\tTesting: 0.5161526829457773\n",
      "\n",
      "\n",
      "\n",
      "Neurons in hidden layer:  9\n",
      "Mean Squared Error:\n",
      "\tTraining: 22.565164799758403\n",
      "\tTesting: 18.58186248477186\n",
      "R2 Score:\n",
      "\tTraining: 0.2814071198998055\n",
      "\tTesting: 0.38899806893352307\n",
      "Mean Absolute Percentage Error:\n",
      "\tTraining: 0.48789232767858276\n",
      "\tTesting: 0.545330975412492\n",
      "\n",
      "\n",
      "\n",
      "Neurons in hidden layer:  10\n",
      "Mean Squared Error:\n",
      "\tTraining: 22.75659006448841\n",
      "\tTesting: 17.33031403720565\n",
      "R2 Score:\n",
      "\tTraining: 0.27531113817191\n",
      "\tTesting: 0.43015102219172796\n",
      "Mean Absolute Percentage Error:\n",
      "\tTraining: 0.4901900375038807\n",
      "\tTesting: 0.4730053951123764\n",
      "\n",
      "\n",
      "\n",
      "Neurons in hidden layer:  11\n",
      "Mean Squared Error:\n",
      "\tTraining: 23.07747954028151\n",
      "\tTesting: 18.351554676775848\n",
      "R2 Score:\n",
      "\tTraining: 0.26509233876803984\n",
      "\tTesting: 0.39657096511336354\n",
      "Mean Absolute Percentage Error:\n",
      "\tTraining: 0.49545494185259936\n",
      "\tTesting: 0.5377982718000243\n",
      "\n",
      "\n",
      "\n",
      "Neurons in hidden layer:  12\n",
      "Mean Squared Error:\n",
      "\tTraining: 23.216264043734686\n",
      "\tTesting: 17.38945353747498\n",
      "R2 Score:\n",
      "\tTraining: 0.26067271423018756\n",
      "\tTesting: 0.42820641901233825\n",
      "Mean Absolute Percentage Error:\n",
      "\tTraining: 0.4970097082012542\n",
      "\tTesting: 0.45613875548894667\n",
      "\n",
      "\n",
      "\n",
      "Neurons in hidden layer:  13\n",
      "Mean Squared Error:\n",
      "\tTraining: 23.22626224900782\n",
      "\tTesting: 27.65730794205048\n",
      "R2 Score:\n",
      "\tTraining: 0.2603543190761165\n",
      "\tTesting: 0.09058262730435196\n",
      "Mean Absolute Percentage Error:\n",
      "\tTraining: 0.49653009651697577\n",
      "\tTesting: 0.7198583965503796\n",
      "\n",
      "\n",
      "\n",
      "Neurons in hidden layer:  14\n",
      "Mean Squared Error:\n",
      "\tTraining: 22.923277485298666\n",
      "\tTesting: 17.258725978124144\n",
      "R2 Score:\n",
      "\tTraining: 0.27000293879205006\n",
      "\tTesting: 0.43250495427878044\n",
      "Mean Absolute Percentage Error:\n",
      "\tTraining: 0.49141287740140405\n",
      "\tTesting: 0.4817445133718213\n",
      "\n",
      "\n",
      "\n",
      "Neurons in hidden layer:  15\n",
      "Mean Squared Error:\n",
      "\tTraining: 23.028667626483383\n",
      "\tTesting: 21.11325703960447\n",
      "R2 Score:\n",
      "\tTraining: 0.26664676542659327\n",
      "\tTesting: 0.3057616892346945\n",
      "Mean Absolute Percentage Error:\n",
      "\tTraining: 0.4962232263689399\n",
      "\tTesting: 0.6283836259344588\n",
      "\n",
      "\n",
      "\n",
      "Neurons in hidden layer:  16\n",
      "Mean Squared Error:\n",
      "\tTraining: 23.955855238717792\n",
      "\tTesting: 18.870326616403993\n",
      "R2 Score:\n",
      "\tTraining: 0.23712026196068992\n",
      "\tTesting: 0.3795128980247894\n",
      "Mean Absolute Percentage Error:\n",
      "\tTraining: 0.49845052628328307\n",
      "\tTesting: 0.5415587475793323\n",
      "\n",
      "\n",
      "\n",
      "Neurons in hidden layer:  17\n",
      "Mean Squared Error:\n",
      "\tTraining: 24.14966620180846\n",
      "\tTesting: 17.43217128478581\n",
      "R2 Score:\n",
      "\tTraining: 0.23094830711798442\n",
      "\tTesting: 0.42680178984133266\n",
      "Mean Absolute Percentage Error:\n",
      "\tTraining: 0.5068146360525474\n",
      "\tTesting: 0.4926106091665868\n",
      "\n",
      "\n",
      "\n",
      "Neurons in hidden layer:  18\n",
      "Mean Squared Error:\n",
      "\tTraining: 24.24808675077408\n",
      "\tTesting: 18.73054933929728\n",
      "R2 Score:\n",
      "\tTraining: 0.22781408202502162\n",
      "\tTesting: 0.38410900276409665\n",
      "Mean Absolute Percentage Error:\n",
      "\tTraining: 0.5026258296902598\n",
      "\tTesting: 0.5472036021226367\n",
      "\n",
      "\n",
      "\n",
      "Neurons in hidden layer:  19\n",
      "Mean Squared Error:\n",
      "\tTraining: 23.339412464409982\n",
      "\tTesting: 17.67245888200509\n",
      "R2 Score:\n",
      "\tTraining: 0.25675102435652\n",
      "\tTesting: 0.4189007419225559\n",
      "Mean Absolute Percentage Error:\n",
      "\tTraining: 0.4946521643848495\n",
      "\tTesting: 0.5035789249398628\n",
      "\n",
      "\n",
      "\n",
      "Neurons in hidden layer:  20\n",
      "Mean Squared Error:\n",
      "\tTraining: 23.84545172778339\n",
      "\tTesting: 21.12528708955852\n",
      "R2 Score:\n",
      "\tTraining: 0.2406360872426916\n",
      "\tTesting: 0.3053661215805493\n",
      "Mean Absolute Percentage Error:\n",
      "\tTraining: 0.501584889278113\n",
      "\tTesting: 0.6220241777288774\n",
      "\n",
      "\n",
      "\n",
      "Neurons in hidden layer:  21\n",
      "Mean Squared Error:\n",
      "\tTraining: 25.121070260388418\n",
      "\tTesting: 18.498512411018417\n",
      "R2 Score:\n",
      "\tTraining: 0.2000137207149877\n",
      "\tTesting: 0.39173875523768786\n",
      "Mean Absolute Percentage Error:\n",
      "\tTraining: 0.5031079859270213\n",
      "\tTesting: 0.5544063288911579\n",
      "\n",
      "\n",
      "\n",
      "Neurons in hidden layer:  22\n",
      "Mean Squared Error:\n",
      "\tTraining: 23.78283389431052\n",
      "\tTesting: 24.14757688886367\n",
      "R2 Score:\n",
      "\tTraining: 0.2426301665990891\n",
      "\tTesting: 0.20598830597507367\n",
      "Mean Absolute Percentage Error:\n",
      "\tTraining: 0.49840681480065496\n",
      "\tTesting: 0.6946986674461406\n",
      "\n",
      "\n",
      "\n",
      "Neurons in hidden layer:  23\n",
      "Mean Squared Error:\n",
      "\tTraining: 24.98686719238254\n",
      "\tTesting: 17.511504567874123\n",
      "R2 Score:\n",
      "\tTraining: 0.20428744838382595\n",
      "\tTesting: 0.4241931821624991\n",
      "Mean Absolute Percentage Error:\n",
      "\tTraining: 0.5100821475447773\n",
      "\tTesting: 0.508381731234298\n",
      "\n",
      "\n",
      "\n",
      "Neurons in hidden layer:  24\n",
      "Mean Squared Error:\n",
      "\tTraining: 23.910963575674007\n",
      "\tTesting: 40.360897587694794\n",
      "R2 Score:\n",
      "\tTraining: 0.23854984732934936\n",
      "\tTesting: -0.3271321099199598\n",
      "Mean Absolute Percentage Error:\n",
      "\tTraining: 0.500418264950402\n",
      "\tTesting: 0.8865126712296624\n",
      "\n",
      "\n",
      "\n",
      "Neurons in hidden layer:  25\n",
      "Mean Squared Error:\n",
      "\tTraining: 24.878865444699493\n",
      "\tTesting: 36.59006939109911\n",
      "R2 Score:\n",
      "\tTraining: 0.2077267889608666\n",
      "\tTesting: -0.20314113152756064\n",
      "Mean Absolute Percentage Error:\n",
      "\tTraining: 0.5039193234102551\n",
      "\tTesting: 0.851819368877117\n",
      "\n",
      "\n",
      "\n",
      "Neurons in hidden layer:  26\n",
      "Mean Squared Error:\n",
      "\tTraining: 24.363497989398265\n",
      "\tTesting: 19.246553448646605\n",
      "R2 Score:\n",
      "\tTraining: 0.22413878449917446\n",
      "\tTesting: 0.36714194644726883\n",
      "Mean Absolute Percentage Error:\n",
      "\tTraining: 0.5021902308771979\n",
      "\tTesting: 0.5743719379239258\n",
      "\n",
      "\n",
      "\n",
      "Neurons in hidden layer:  27\n",
      "Mean Squared Error:\n",
      "\tTraining: 24.37850714625746\n",
      "\tTesting: 17.47168173708927\n",
      "R2 Score:\n",
      "\tTraining: 0.22366081443553731\n",
      "\tTesting: 0.4255026217587732\n",
      "Mean Absolute Percentage Error:\n",
      "\tTraining: 0.5029053937980487\n",
      "\tTesting: 0.5057288011488176\n",
      "\n",
      "\n",
      "\n",
      "Neurons in hidden layer:  28\n",
      "Mean Squared Error:\n",
      "\tTraining: 25.799841856407657\n",
      "\tTesting: 18.218644509379736\n",
      "R2 Score:\n",
      "\tTraining: 0.1783980826089946\n",
      "\tTesting: 0.4009412680904707\n",
      "Mean Absolute Percentage Error:\n",
      "\tTraining: 0.5124361873484414\n",
      "\tTesting: 0.548493016799675\n",
      "\n",
      "\n",
      "\n",
      "Neurons in hidden layer:  29\n",
      "Mean Squared Error:\n",
      "\tTraining: 26.946968195379444\n",
      "\tTesting: 18.226418310060964\n",
      "R2 Score:\n",
      "\tTraining: 0.14186757963791263\n",
      "\tTesting: 0.4006856528510485\n",
      "Mean Absolute Percentage Error:\n",
      "\tTraining: 0.5108970452591206\n",
      "\tTesting: 0.5054515528057572\n",
      "\n",
      "\n",
      "\n",
      "Neurons in hidden layer:  30\n",
      "Mean Squared Error:\n",
      "\tTraining: 33.400547961379544\n",
      "\tTesting: 18.619171877540705\n",
      "R2 Score:\n",
      "\tTraining: -0.06364815721396289\n",
      "\tTesting: 0.3877712752766782\n",
      "Mean Absolute Percentage Error:\n",
      "\tTraining: 0.5398631078366461\n",
      "\tTesting: 0.41557897685617295\n",
      "\n",
      "\n",
      "\n",
      "Neurons in hidden layer:  31\n",
      "Mean Squared Error:\n",
      "\tTraining: 25.66343376226675\n",
      "\tTesting: 21.855602193865508\n",
      "R2 Score:\n",
      "\tTraining: 0.1827420298439265\n",
      "\tTesting: 0.28135217037494364\n",
      "Mean Absolute Percentage Error:\n",
      "\tTraining: 0.5104075327457045\n",
      "\tTesting: 0.6418780605017473\n",
      "\n",
      "\n",
      "\n"
     ]
    },
    {
     "name": "stdout",
     "output_type": "stream",
     "text": [
      "Neurons in hidden layer:  32\n",
      "Mean Squared Error:\n",
      "\tTraining: 23.128476458894497\n",
      "\tTesting: 21.08323603095535\n",
      "R2 Score:\n",
      "\tTraining: 0.2634683301269536\n",
      "\tTesting: 0.3067488289399962\n",
      "Mean Absolute Percentage Error:\n",
      "\tTraining: 0.49324606868271037\n",
      "\tTesting: 0.6310659334753521\n",
      "\n",
      "\n",
      "\n",
      "Neurons in hidden layer:  33\n",
      "Mean Squared Error:\n",
      "\tTraining: 26.212203692772167\n",
      "\tTesting: 21.01289516804581\n",
      "R2 Score:\n",
      "\tTraining: 0.16526632477491265\n",
      "\tTesting: 0.3090617511837075\n",
      "Mean Absolute Percentage Error:\n",
      "\tTraining: 0.5145978892260425\n",
      "\tTesting: 0.6117950319922891\n",
      "\n",
      "\n",
      "\n",
      "Neurons in hidden layer:  34\n",
      "Mean Squared Error:\n",
      "\tTraining: 26.714323886635125\n",
      "\tTesting: 45.77488470288736\n",
      "R2 Score:\n",
      "\tTraining: 0.14927619133399417\n",
      "\tTesting: -0.5051528322701877\n",
      "Mean Absolute Percentage Error:\n",
      "\tTraining: 0.5243764796574697\n",
      "\tTesting: 0.9522764117527042\n",
      "\n",
      "\n",
      "\n",
      "Neurons in hidden layer:  35\n",
      "Mean Squared Error:\n",
      "\tTraining: 39.31213546002397\n",
      "\tTesting: 17.77927473081412\n",
      "R2 Score:\n",
      "\tTraining: -0.25190402524381583\n",
      "\tTesting: 0.41538846268013285\n",
      "Mean Absolute Percentage Error:\n",
      "\tTraining: 0.5404056964542079\n",
      "\tTesting: 0.43320944176826637\n",
      "\n",
      "\n",
      "\n",
      "Neurons in hidden layer:  36\n",
      "Mean Squared Error:\n",
      "\tTraining: 24.2707012857993\n",
      "\tTesting: 34.38395391630342\n",
      "R2 Score:\n",
      "\tTraining: 0.22709391693869896\n",
      "\tTesting: -0.13060045825756594\n",
      "Mean Absolute Percentage Error:\n",
      "\tTraining: 0.4997913272766923\n",
      "\tTesting: 0.8245458385011581\n",
      "\n",
      "\n",
      "\n",
      "Neurons in hidden layer:  37\n",
      "Mean Squared Error:\n",
      "\tTraining: 25.732138248910253\n",
      "\tTesting: 21.394436005701937\n",
      "R2 Score:\n",
      "\tTraining: 0.18055411961277723\n",
      "\tTesting: 0.29651606644518014\n",
      "Mean Absolute Percentage Error:\n",
      "\tTraining: 0.5079765007131941\n",
      "\tTesting: 0.635383273733401\n",
      "\n",
      "\n",
      "\n",
      "Neurons in hidden layer:  38\n",
      "Mean Squared Error:\n",
      "\tTraining: 29.204785663754336\n",
      "\tTesting: 25.97415668839608\n",
      "R2 Score:\n",
      "\tTraining: 0.06996686135211427\n",
      "\tTesting: 0.1459273844352692\n",
      "Mean Absolute Percentage Error:\n",
      "\tTraining: 0.5470232690439113\n",
      "\tTesting: 0.7093054468649272\n",
      "\n",
      "\n",
      "\n",
      "Neurons in hidden layer:  39\n",
      "Mean Squared Error:\n",
      "\tTraining: 23.69602832686699\n",
      "\tTesting: 20.297908677107174\n",
      "R2 Score:\n",
      "\tTraining: 0.2453945099252519\n",
      "\tTesting: 0.3325716725927139\n",
      "Mean Absolute Percentage Error:\n",
      "\tTraining: 0.5007195947671133\n",
      "\tTesting: 0.5993819018088804\n",
      "\n",
      "\n",
      "\n",
      "Neurons in hidden layer:  40\n",
      "Mean Squared Error:\n",
      "\tTraining: 26.89358102560492\n",
      "\tTesting: 17.388349436220178\n",
      "R2 Score:\n",
      "\tTraining: 0.14356770637880334\n",
      "\tTesting: 0.4282427236615267\n",
      "Mean Absolute Percentage Error:\n",
      "\tTraining: 0.5193909212870774\n",
      "\tTesting: 0.49610413759508604\n",
      "\n",
      "\n",
      "\n",
      "Neurons in hidden layer:  41\n",
      "Mean Squared Error:\n",
      "\tTraining: 25.485823463228332\n",
      "\tTesting: 30.780640822982335\n",
      "R2 Score:\n",
      "\tTraining: 0.1883980708014843\n",
      "\tTesting: -0.012117649547697784\n",
      "Mean Absolute Percentage Error:\n",
      "\tTraining: 0.5040897404009106\n",
      "\tTesting: 0.77968878915364\n",
      "\n",
      "\n",
      "\n",
      "Neurons in hidden layer:  42\n",
      "Mean Squared Error:\n",
      "\tTraining: 27.760234522783282\n",
      "\tTesting: 35.324821698089615\n",
      "R2 Score:\n",
      "\tTraining: 0.11596892577548268\n",
      "\tTesting: -0.16153772474636474\n",
      "Mean Absolute Percentage Error:\n",
      "\tTraining: 0.5221072434017522\n",
      "\tTesting: 0.8115493295476714\n",
      "\n",
      "\n",
      "\n",
      "Neurons in hidden layer:  43\n",
      "Mean Squared Error:\n",
      "\tTraining: 24.9435496142084\n",
      "\tTesting: 21.33338232754456\n",
      "R2 Score:\n",
      "\tTraining: 0.2056669066565816\n",
      "\tTesting: 0.2985236109140643\n",
      "Mean Absolute Percentage Error:\n",
      "\tTraining: 0.5118382661902015\n",
      "\tTesting: 0.6236578752332747\n",
      "\n",
      "\n",
      "\n",
      "Neurons in hidden layer:  44\n",
      "Mean Squared Error:\n",
      "\tTraining: 27.955535579545735\n",
      "\tTesting: 45.526464543806455\n",
      "R2 Score:\n",
      "\tTraining: 0.10974951855595094\n",
      "\tTesting: -0.49698437245951665\n",
      "Mean Absolute Percentage Error:\n",
      "\tTraining: 0.536280849685523\n",
      "\tTesting: 0.928307321329033\n",
      "\n",
      "\n",
      "\n",
      "Neurons in hidden layer:  45\n",
      "Mean Squared Error:\n",
      "\tTraining: 21.89822248311817\n",
      "\tTesting: 17.818156769116325\n",
      "R2 Score:\n",
      "\tTraining: 0.3026460518742944\n",
      "\tTesting: 0.4141099578743892\n",
      "Mean Absolute Percentage Error:\n",
      "\tTraining: 0.48637963100251713\n",
      "\tTesting: 0.5027568970891322\n",
      "\n",
      "\n",
      "\n",
      "Neurons in hidden layer:  46\n",
      "Mean Squared Error:\n",
      "\tTraining: 26.94249887082571\n",
      "\tTesting: 54.295283746508105\n",
      "R2 Score:\n",
      "\tTraining: 0.1420099063096507\n",
      "\tTesting: -0.7853174429692293\n",
      "Mean Absolute Percentage Error:\n",
      "\tTraining: 0.5143914487684006\n",
      "\tTesting: 1.0397606788654044\n",
      "\n",
      "\n",
      "\n",
      "Neurons in hidden layer:  47\n",
      "Mean Squared Error:\n",
      "\tTraining: 29.438831813163684\n",
      "\tTesting: 18.3371010503535\n",
      "R2 Score:\n",
      "\tTraining: 0.06251360771657144\n",
      "\tTesting: 0.397046223912755\n",
      "Mean Absolute Percentage Error:\n",
      "\tTraining: 0.5356049453186431\n",
      "\tTesting: 0.5518045791425978\n",
      "\n",
      "\n",
      "\n",
      "Neurons in hidden layer:  48\n",
      "Mean Squared Error:\n",
      "\tTraining: 24.887102947981358\n",
      "\tTesting: 36.893651503061925\n",
      "R2 Score:\n",
      "\tTraining: 0.20746446376800054\n",
      "\tTesting: -0.2131234062752363\n",
      "Mean Absolute Percentage Error:\n",
      "\tTraining: 0.5112151637755662\n",
      "\tTesting: 0.8653049974001455\n",
      "\n",
      "\n",
      "\n",
      "Neurons in hidden layer:  49\n",
      "Mean Squared Error:\n",
      "\tTraining: 23.606194995681072\n",
      "\tTesting: 20.03749615078023\n",
      "R2 Score:\n",
      "\tTraining: 0.24825527308646644\n",
      "\tTesting: 0.3411344609886596\n",
      "Mean Absolute Percentage Error:\n",
      "\tTraining: 0.49348916438450496\n",
      "\tTesting: 0.5991510001869406\n",
      "\n",
      "\n",
      "\n",
      "Neurons in hidden layer:  50\n",
      "Mean Squared Error:\n",
      "\tTraining: 27.968558103161115\n",
      "\tTesting: 23.33779504551174\n",
      "R2 Score:\n",
      "\tTraining: 0.10933481328639083\n",
      "\tTesting: 0.2326152531089296\n",
      "Mean Absolute Percentage Error:\n",
      "\tTraining: 0.5257782776579091\n",
      "\tTesting: 0.6613759562237486\n",
      "\n",
      "\n",
      "\n",
      "Neurons in hidden layer:  51\n",
      "Mean Squared Error:\n",
      "\tTraining: 31.072009873106257\n",
      "\tTesting: 24.31651062484542\n",
      "R2 Score:\n",
      "\tTraining: 0.010504675531722074\n",
      "\tTesting: 0.20043348933644478\n",
      "Mean Absolute Percentage Error:\n",
      "\tTraining: 0.5378618849810276\n",
      "\tTesting: 0.6870141604161095\n",
      "\n",
      "\n",
      "\n",
      "Neurons in hidden layer:  52\n",
      "Mean Squared Error:\n",
      "\tTraining: 27.512687639807087\n",
      "\tTesting: 44.08482639049219\n",
      "R2 Score:\n",
      "\tTraining: 0.12385211338683999\n",
      "\tTesting: -0.4495809597878324\n",
      "Mean Absolute Percentage Error:\n",
      "\tTraining: 0.5203634333977684\n",
      "\tTesting: 0.9335512089401106\n",
      "\n",
      "\n",
      "\n",
      "Neurons in hidden layer:  53\n",
      "Mean Squared Error:\n",
      "\tTraining: 29.489369662284304\n",
      "\tTesting: 21.260396066235735\n",
      "R2 Score:\n",
      "\tTraining: 0.06090421824940273\n",
      "\tTesting: 0.3009235181697315\n",
      "Mean Absolute Percentage Error:\n",
      "\tTraining: 0.5424730157032948\n",
      "\tTesting: 0.6329180326696875\n",
      "\n",
      "\n",
      "\n",
      "Neurons in hidden layer:  54\n",
      "Mean Squared Error:\n",
      "\tTraining: 27.923040701993063\n",
      "\tTesting: 17.33549143999541\n",
      "R2 Score:\n",
      "\tTraining: 0.11078432543001049\n",
      "\tTesting: 0.4299807807476831\n",
      "Mean Absolute Percentage Error:\n",
      "\tTraining: 0.5319536160915453\n",
      "\tTesting: 0.44784889385950294\n",
      "\n",
      "\n",
      "\n",
      "Neurons in hidden layer:  55\n",
      "Mean Squared Error:\n",
      "\tTraining: 21.15111053195468\n",
      "\tTesting: 17.79927254542317\n",
      "R2 Score:\n",
      "\tTraining: 0.3264380043598175\n",
      "\tTesting: 0.41473090193490325\n",
      "Mean Absolute Percentage Error:\n",
      "\tTraining: 0.48157716903828157\n",
      "\tTesting: 0.45512398694093226\n",
      "\n",
      "\n",
      "\n",
      "Neurons in hidden layer:  56\n",
      "Mean Squared Error:\n",
      "\tTraining: 20.699161751391767\n",
      "\tTesting: 20.62787735885465\n",
      "R2 Score:\n",
      "\tTraining: 0.34083041756683075\n",
      "\tTesting: 0.32172176441454325\n",
      "Mean Absolute Percentage Error:\n",
      "\tTraining: 0.47589046725482326\n",
      "\tTesting: 0.3892299159805652\n",
      "\n",
      "\n",
      "\n",
      "Neurons in hidden layer:  57\n",
      "Mean Squared Error:\n",
      "\tTraining: 23.92887398739743\n",
      "\tTesting: 20.862510439523977\n",
      "R2 Score:\n",
      "\tTraining: 0.23797948613507813\n",
      "\tTesting: 0.3140066462180481\n",
      "Mean Absolute Percentage Error:\n",
      "\tTraining: 0.5008363609968197\n",
      "\tTesting: 0.5716481301172529\n",
      "\n",
      "\n",
      "\n",
      "Neurons in hidden layer:  58\n",
      "Mean Squared Error:\n",
      "\tTraining: 21.69905992839371\n",
      "\tTesting: 17.612133735030756\n",
      "R2 Score:\n",
      "\tTraining: 0.30898842938749105\n",
      "\tTesting: 0.4208843310984737\n",
      "Mean Absolute Percentage Error:\n",
      "\tTraining: 0.4779748901309871\n",
      "\tTesting: 0.44766069878508175\n",
      "\n",
      "\n",
      "\n",
      "Neurons in hidden layer:  59\n",
      "Mean Squared Error:\n",
      "\tTraining: 31.128567952728247\n",
      "\tTesting: 17.55677028967964\n",
      "R2 Score:\n",
      "\tTraining: 0.008703570435031782\n",
      "\tTesting: 0.4227047714363432\n",
      "Mean Absolute Percentage Error:\n",
      "\tTraining: 0.5519039524842956\n",
      "\tTesting: 0.5011747835399972\n",
      "\n",
      "\n",
      "\n",
      "Neurons in hidden layer:  60\n",
      "Mean Squared Error:\n",
      "\tTraining: 19.659615096684472\n",
      "\tTesting: 18.965952531725428\n",
      "R2 Score:\n",
      "\tTraining: 0.3739350206678298\n",
      "\tTesting: 0.376368562037518\n",
      "Mean Absolute Percentage Error:\n",
      "\tTraining: 0.47681937072091757\n",
      "\tTesting: 0.40663509524425023\n",
      "\n",
      "\n",
      "\n",
      "Neurons in hidden layer:  61\n",
      "Mean Squared Error:\n",
      "\tTraining: 22.12872073249796\n",
      "\tTesting: 39.83881984188891\n",
      "R2 Score:\n",
      "\tTraining: 0.2953057819338928\n",
      "\tTesting: -0.3099653425350628\n",
      "Mean Absolute Percentage Error:\n",
      "\tTraining: 0.49068744671827563\n",
      "\tTesting: 0.8935179180853721\n",
      "\n",
      "\n",
      "\n",
      "Neurons in hidden layer:  62\n",
      "Mean Squared Error:\n",
      "\tTraining: 28.044427419064235\n",
      "\tTesting: 25.94749163821978\n",
      "R2 Score:\n",
      "\tTraining: 0.10691873741414037\n",
      "\tTesting: 0.14680417475502605\n",
      "Mean Absolute Percentage Error:\n",
      "\tTraining: 0.5353064788145697\n",
      "\tTesting: 0.717529698131515\n",
      "\n",
      "\n",
      "\n"
     ]
    },
    {
     "name": "stdout",
     "output_type": "stream",
     "text": [
      "Neurons in hidden layer:  63\n",
      "Mean Squared Error:\n",
      "\tTraining: 28.563585401808062\n",
      "\tTesting: 44.558304455198936\n",
      "R2 Score:\n",
      "\tTraining: 0.09038603165473513\n",
      "\tTesting: -0.46514969042990484\n",
      "Mean Absolute Percentage Error:\n",
      "\tTraining: 0.529327074034877\n",
      "\tTesting: 0.9405342216460861\n",
      "\n",
      "\n",
      "\n",
      "Neurons in hidden layer:  64\n",
      "Mean Squared Error:\n",
      "\tTraining: 23.950779284038646\n",
      "\tTesting: 39.31684765749497\n",
      "R2 Score:\n",
      "\tTraining: 0.2372819069087555\n",
      "\tTesting: -0.2928020461814784\n",
      "Mean Absolute Percentage Error:\n",
      "\tTraining: 0.5000760760070974\n",
      "\tTesting: 0.8251400441314156\n",
      "\n",
      "\n",
      "\n",
      "Neurons in hidden layer:  65\n",
      "Mean Squared Error:\n",
      "\tTraining: 28.645942974859693\n",
      "\tTesting: 36.6847538496667\n",
      "R2 Score:\n",
      "\tTraining: 0.0877633357363845\n",
      "\tTesting: -0.20625451088198155\n",
      "Mean Absolute Percentage Error:\n",
      "\tTraining: 0.5300499092259944\n",
      "\tTesting: 0.8336649930931394\n",
      "\n",
      "\n",
      "\n",
      "Neurons in hidden layer:  66\n",
      "Mean Squared Error:\n",
      "\tTraining: 21.9709465974038\n",
      "\tTesting: 17.507712631764917\n",
      "R2 Score:\n",
      "\tTraining: 0.30033013567332767\n",
      "\tTesting: 0.42431786720346876\n",
      "Mean Absolute Percentage Error:\n",
      "\tTraining: 0.4816774048389542\n",
      "\tTesting: 0.4442327359123933\n",
      "\n",
      "\n",
      "\n",
      "Neurons in hidden layer:  67\n",
      "Mean Squared Error:\n",
      "\tTraining: 28.654688079953083\n",
      "\tTesting: 44.05336931352102\n",
      "R2 Score:\n",
      "\tTraining: 0.08748484584669824\n",
      "\tTesting: -0.4485465998149909\n",
      "Mean Absolute Percentage Error:\n",
      "\tTraining: 0.5319823621791692\n",
      "\tTesting: 0.9277817508446471\n",
      "\n",
      "\n",
      "\n",
      "Neurons in hidden layer:  68\n",
      "Mean Squared Error:\n",
      "\tTraining: 32.226327564108416\n",
      "\tTesting: 62.233235721969095\n",
      "R2 Score:\n",
      "\tTraining: -0.026254837704216216\n",
      "\tTesting: -1.0463302445489613\n",
      "Mean Absolute Percentage Error:\n",
      "\tTraining: 0.5569519350243074\n",
      "\tTesting: 1.1094261180367788\n",
      "\n",
      "\n",
      "\n",
      "Neurons in hidden layer:  69\n",
      "Mean Squared Error:\n",
      "\tTraining: 29.54517203715288\n",
      "\tTesting: 26.676999389684635\n",
      "R2 Score:\n",
      "\tTraining: 0.05912717874496842\n",
      "\tTesting: 0.12281677062703455\n",
      "Mean Absolute Percentage Error:\n",
      "\tTraining: 0.5381443058489501\n",
      "\tTesting: 0.7077580496360482\n",
      "\n",
      "\n",
      "\n",
      "Neurons in hidden layer:  70\n",
      "Mean Squared Error:\n",
      "\tTraining: 22.09575651908296\n",
      "\tTesting: 25.198836928248376\n",
      "R2 Score:\n",
      "\tTraining: 0.29635553491679034\n",
      "\tTesting: 0.17142116209251246\n",
      "Mean Absolute Percentage Error:\n",
      "\tTraining: 0.4937979798238539\n",
      "\tTesting: 0.7052640746060375\n",
      "\n",
      "\n",
      "\n",
      "Neurons in hidden layer:  71\n",
      "Mean Squared Error:\n",
      "\tTraining: 47.63789660112369\n",
      "\tTesting: 25.432795375090592\n",
      "R2 Score:\n",
      "\tTraining: -0.5170398100032156\n",
      "\tTesting: 0.1637282269560557\n",
      "Mean Absolute Percentage Error:\n",
      "\tTraining: 0.6217392411481927\n",
      "\tTesting: 0.715580780593366\n",
      "\n",
      "\n",
      "\n",
      "Neurons in hidden layer:  72\n",
      "Mean Squared Error:\n",
      "\tTraining: 35.183554284465735\n",
      "\tTesting: 19.06579995133795\n",
      "R2 Score:\n",
      "\tTraining: -0.12042840501242269\n",
      "\tTesting: 0.37308541610716517\n",
      "Mean Absolute Percentage Error:\n",
      "\tTraining: 0.5600057914651165\n",
      "\tTesting: 0.5657796764157447\n",
      "\n",
      "\n",
      "\n",
      "Neurons in hidden layer:  73\n",
      "Mean Squared Error:\n",
      "\tTraining: 21.958619579358896\n",
      "\tTesting: 21.71504237682053\n",
      "R2 Score:\n",
      "\tTraining: 0.3007226924075036\n",
      "\tTesting: 0.2859740063031351\n",
      "Mean Absolute Percentage Error:\n",
      "\tTraining: 0.4914997286300455\n",
      "\tTesting: 0.6460589755328888\n",
      "\n",
      "\n",
      "\n",
      "Neurons in hidden layer:  74\n",
      "Mean Squared Error:\n",
      "\tTraining: 27.182388646891077\n",
      "\tTesting: 37.83986568543411\n",
      "R2 Score:\n",
      "\tTraining: 0.13437056103479372\n",
      "\tTesting: -0.244236471131124\n",
      "Mean Absolute Percentage Error:\n",
      "\tTraining: 0.5177982093877725\n",
      "\tTesting: 0.8751611038338024\n",
      "\n",
      "\n",
      "\n",
      "Neurons in hidden layer:  75\n",
      "Mean Squared Error:\n",
      "\tTraining: 26.14849226593437\n",
      "\tTesting: 45.6576079281068\n",
      "R2 Score:\n",
      "\tTraining: 0.16729522986436973\n",
      "\tTesting: -0.5012965807281855\n",
      "Mean Absolute Percentage Error:\n",
      "\tTraining: 0.5173670272589911\n",
      "\tTesting: 0.9645024336805474\n",
      "\n",
      "\n",
      "\n",
      "Neurons in hidden layer:  76\n",
      "Mean Squared Error:\n",
      "\tTraining: 27.482096838027207\n",
      "\tTesting: 48.2265791756551\n",
      "R2 Score:\n",
      "\tTraining: 0.12482628452853772\n",
      "\tTesting: -0.5857685433418696\n",
      "Mean Absolute Percentage Error:\n",
      "\tTraining: 0.5321353534374862\n",
      "\tTesting: 0.9774013516949309\n",
      "\n",
      "\n",
      "\n",
      "Neurons in hidden layer:  77\n",
      "Mean Squared Error:\n",
      "\tTraining: 29.752908806604264\n",
      "\tTesting: 51.85214319115567\n",
      "R2 Score:\n",
      "\tTraining: 0.05251175338523961\n",
      "\tTesting: -0.7049829986469496\n",
      "Mean Absolute Percentage Error:\n",
      "\tTraining: 0.5407490101317187\n",
      "\tTesting: 1.0272553267145401\n",
      "\n",
      "\n",
      "\n",
      "Neurons in hidden layer:  78\n",
      "Mean Squared Error:\n",
      "\tTraining: 93.06982346820519\n",
      "\tTesting: 17.822746341137513\n",
      "R2 Score:\n",
      "\tTraining: -1.9638300047846444\n",
      "\tTesting: 0.4139590452643098\n",
      "Mean Absolute Percentage Error:\n",
      "\tTraining: 0.6362397774840962\n",
      "\tTesting: 0.5021722459360474\n",
      "\n",
      "\n",
      "\n",
      "Neurons in hidden layer:  79\n",
      "Mean Squared Error:\n",
      "\tTraining: 23.37175909539402\n",
      "\tTesting: 30.77719110755294\n",
      "R2 Score:\n",
      "\tTraining: 0.2557209384286473\n",
      "\tTesting: -0.012004217280576102\n",
      "Mean Absolute Percentage Error:\n",
      "\tTraining: 0.49643297998723845\n",
      "\tTesting: 0.7564326433235813\n",
      "\n",
      "\n",
      "\n",
      "Neurons in hidden layer:  80\n",
      "Mean Squared Error:\n",
      "\tTraining: 59.360484332656725\n",
      "\tTesting: 38.709494860328206\n",
      "R2 Score:\n",
      "\tTraining: -0.8903483213737915\n",
      "\tTesting: -0.2728312960905426\n",
      "Mean Absolute Percentage Error:\n",
      "\tTraining: 0.6243150325597439\n",
      "\tTesting: 0.8721039118124374\n",
      "\n",
      "\n",
      "\n",
      "Neurons in hidden layer:  81\n",
      "Mean Squared Error:\n",
      "\tTraining: 29.64197308887239\n",
      "\tTesting: 19.80543753580705\n",
      "R2 Score:\n",
      "\tTraining: 0.05604452691551687\n",
      "\tTesting: 0.3487649265561139\n",
      "Mean Absolute Percentage Error:\n",
      "\tTraining: 0.542821406450211\n",
      "\tTesting: 0.5751033041087685\n",
      "\n",
      "\n",
      "\n",
      "Neurons in hidden layer:  82\n",
      "Mean Squared Error:\n",
      "\tTraining: 27.4337973345323\n",
      "\tTesting: 38.22055909515925\n",
      "R2 Score:\n",
      "\tTraining: 0.1263643933627433\n",
      "\tTesting: -0.25675429105778447\n",
      "Mean Absolute Percentage Error:\n",
      "\tTraining: 0.5275474941334299\n",
      "\tTesting: 0.8458339345791818\n",
      "\n",
      "\n",
      "\n",
      "Neurons in hidden layer:  83\n",
      "Mean Squared Error:\n",
      "\tTraining: 36.025343649019476\n",
      "\tTesting: 46.46832897036848\n",
      "R2 Score:\n",
      "\tTraining: -0.14723538157475913\n",
      "\tTesting: -0.5279544102532971\n",
      "Mean Absolute Percentage Error:\n",
      "\tTraining: 0.590387808871412\n",
      "\tTesting: 0.960026167498465\n",
      "\n",
      "\n",
      "\n",
      "Neurons in hidden layer:  84\n",
      "Mean Squared Error:\n",
      "\tTraining: 26.921848627255677\n",
      "\tTesting: 32.34192782427458\n",
      "R2 Score:\n",
      "\tTraining: 0.14266751808131029\n",
      "\tTesting: -0.06345531139512173\n",
      "Mean Absolute Percentage Error:\n",
      "\tTraining: 0.5258815089444637\n",
      "\tTesting: 0.776678181608058\n",
      "\n",
      "\n",
      "\n",
      "Neurons in hidden layer:  85\n",
      "Mean Squared Error:\n",
      "\tTraining: 21.16464311140423\n",
      "\tTesting: 19.353017611082624\n",
      "R2 Score:\n",
      "\tTraining: 0.32600705624451976\n",
      "\tTesting: 0.36364123122611747\n",
      "Mean Absolute Percentage Error:\n",
      "\tTraining: 0.4723022584663977\n",
      "\tTesting: 0.3950753240654113\n",
      "\n",
      "\n",
      "\n",
      "Neurons in hidden layer:  86\n",
      "Mean Squared Error:\n",
      "\tTraining: 113.58806002650367\n",
      "\tTesting: 22.266646534864382\n",
      "R2 Score:\n",
      "\tTraining: -2.6172379826941463\n",
      "\tTesting: 0.2678363623492369\n",
      "Mean Absolute Percentage Error:\n",
      "\tTraining: 0.6873550556480957\n",
      "\tTesting: 0.6095397230152952\n",
      "\n",
      "\n",
      "\n",
      "Neurons in hidden layer:  87\n",
      "Mean Squared Error:\n",
      "\tTraining: 20.280448404114484\n",
      "\tTesting: 19.205058846941313\n",
      "R2 Score:\n",
      "\tTraining: 0.3541644407315806\n",
      "\tTesting: 0.3685063565967652\n",
      "Mean Absolute Percentage Error:\n",
      "\tTraining: 0.48045131632291405\n",
      "\tTesting: 0.3922596767375192\n",
      "\n",
      "\n",
      "\n",
      "Neurons in hidden layer:  88\n",
      "Mean Squared Error:\n",
      "\tTraining: 22.13774496135988\n",
      "\tTesting: 17.599535187806627\n",
      "R2 Score:\n",
      "\tTraining: 0.29501840328338813\n",
      "\tTesting: 0.42129859186963603\n",
      "Mean Absolute Percentage Error:\n",
      "\tTraining: 0.48343721049218485\n",
      "\tTesting: 0.4654670391597717\n",
      "\n",
      "\n",
      "\n",
      "Neurons in hidden layer:  89\n",
      "Mean Squared Error:\n",
      "\tTraining: 23.067662099566373\n",
      "\tTesting: 61.25359101077761\n",
      "R2 Score:\n",
      "\tTraining: 0.2654049774330487\n",
      "\tTesting: -1.0141179294063\n",
      "Mean Absolute Percentage Error:\n",
      "\tTraining: 0.496134136006492\n",
      "\tTesting: 1.1069699163485385\n",
      "\n",
      "\n",
      "\n",
      "Neurons in hidden layer:  90\n",
      "Mean Squared Error:\n",
      "\tTraining: 41.52737293771673\n",
      "\tTesting: 17.862807035410572\n",
      "R2 Score:\n",
      "\tTraining: -0.32244877390074445\n",
      "\tTesting: 0.4126417843287732\n",
      "Mean Absolute Percentage Error:\n",
      "\tTraining: 0.6028467306413803\n",
      "\tTesting: 0.4630511721434651\n",
      "\n",
      "\n",
      "\n",
      "Neurons in hidden layer:  91\n",
      "Mean Squared Error:\n",
      "\tTraining: 35.04386661484744\n",
      "\tTesting: 68.09077431248298\n",
      "R2 Score:\n",
      "\tTraining: -0.11598001893963072\n",
      "\tTesting: -1.2389356624952739\n",
      "Mean Absolute Percentage Error:\n",
      "\tTraining: 0.5773227126677697\n",
      "\tTesting: 1.2172845284576408\n",
      "\n",
      "\n",
      "\n",
      "Neurons in hidden layer:  92\n",
      "Mean Squared Error:\n",
      "\tTraining: 20.54413083332413\n",
      "\tTesting: 17.95991760941343\n",
      "R2 Score:\n",
      "\tTraining: 0.3457674129270417\n",
      "\tTesting: 0.4094486303437329\n",
      "Mean Absolute Percentage Error:\n",
      "\tTraining: 0.47785258156920857\n",
      "\tTesting: 0.42562011466705874\n",
      "\n",
      "\n",
      "\n",
      "Neurons in hidden layer:  93\n",
      "Mean Squared Error:\n",
      "\tTraining: 48.16738034314588\n",
      "\tTesting: 18.815796451464077\n",
      "R2 Score:\n",
      "\tTraining: -0.5339013419495735\n",
      "\tTesting: 0.3813059387443065\n",
      "Mean Absolute Percentage Error:\n",
      "\tTraining: 0.5957675637133226\n",
      "\tTesting: 0.4057020310083544\n",
      "\n",
      "\n",
      "\n"
     ]
    },
    {
     "name": "stdout",
     "output_type": "stream",
     "text": [
      "Neurons in hidden layer:  94\n",
      "Mean Squared Error:\n",
      "\tTraining: 137.49235463381783\n",
      "\tTesting: 19.393121114575564\n",
      "R2 Score:\n",
      "\tTraining: -3.378475760528471\n",
      "\tTesting: 0.3623225626536426\n",
      "Mean Absolute Percentage Error:\n",
      "\tTraining: 0.7282934342764856\n",
      "\tTesting: 0.40642892970848943\n",
      "\n",
      "\n",
      "\n",
      "Neurons in hidden layer:  95\n",
      "Mean Squared Error:\n",
      "\tTraining: 24.993915134532028\n",
      "\tTesting: 37.976323369979355\n",
      "R2 Score:\n",
      "\tTraining: 0.2040630050397192\n",
      "\tTesting: -0.24872342225533628\n",
      "Mean Absolute Percentage Error:\n",
      "\tTraining: 0.5076847940939554\n",
      "\tTesting: 0.8696648927060645\n",
      "\n",
      "\n",
      "\n",
      "Neurons in hidden layer:  96\n",
      "Mean Squared Error:\n",
      "\tTraining: 42.50047943393096\n",
      "\tTesting: 21.163755444571912\n",
      "R2 Score:\n",
      "\tTraining: -0.35343757482305294\n",
      "\tTesting: 0.30410121935573753\n",
      "Mean Absolute Percentage Error:\n",
      "\tTraining: 0.6109965281643408\n",
      "\tTesting: 0.6106624809013405\n",
      "\n",
      "\n",
      "\n",
      "Neurons in hidden layer:  97\n",
      "Mean Squared Error:\n",
      "\tTraining: 73.2484431554096\n",
      "\tTesting: 20.166467718989587\n",
      "R2 Score:\n",
      "\tTraining: -1.332613574817088\n",
      "\tTesting: 0.3368936655736052\n",
      "Mean Absolute Percentage Error:\n",
      "\tTraining: 0.5926802048793947\n",
      "\tTesting: 0.386212721143282\n",
      "\n",
      "\n",
      "\n",
      "Neurons in hidden layer:  98\n",
      "Mean Squared Error:\n",
      "\tTraining: 34.28065316151087\n",
      "\tTesting: 19.71422971402388\n",
      "R2 Score:\n",
      "\tTraining: -0.09167531040188437\n",
      "\tTesting: 0.3517639884253724\n",
      "Mean Absolute Percentage Error:\n",
      "\tTraining: 0.5555265387619629\n",
      "\tTesting: 0.6082123131676219\n",
      "\n",
      "\n",
      "\n",
      "Neurons in hidden layer:  99\n",
      "Mean Squared Error:\n",
      "\tTraining: 98.42369804600088\n",
      "\tTesting: 19.571247225839105\n",
      "R2 Score:\n",
      "\tTraining: -2.13432537615435\n",
      "\tTesting: 0.35646548573013304\n",
      "Mean Absolute Percentage Error:\n",
      "\tTraining: 0.6869640333283984\n",
      "\tTesting: 0.40152539484661265\n",
      "\n",
      "\n",
      "\n",
      "Neurons in hidden layer:  100\n",
      "Mean Squared Error:\n",
      "\tTraining: 151.51823952353047\n",
      "\tTesting: 21.729024179496054\n",
      "R2 Score:\n",
      "\tTraining: -3.8251333014013973\n",
      "\tTesting: 0.285514261837717\n",
      "Mean Absolute Percentage Error:\n",
      "\tTraining: 0.7389304541538515\n",
      "\tTesting: 0.6053561795566319\n",
      "\n",
      "\n",
      "\n"
     ]
    },
    {
     "data": {
      "image/png": "[encoded data removed]",
      "text/plain": [
       "<Figure size 432x288 with 1 Axes>"
      ]
     },
     "metadata": {
      "needs_background": "light"
     },
     "output_type": "display_data"
    },
    {
     "data": {
      "image/png": "[encoded data removed]",
      "text/plain": [
       "<Figure size 432x288 with 1 Axes>"
      ]
     },
     "metadata": {
      "needs_background": "light"
     },
     "output_type": "display_data"
    },
    {
     "data": {
      "image/png": "[encoded data removed]",
      "text/plain": [
       "<Figure size 432x288 with 1 Axes>"
      ]
     },
     "metadata": {
      "needs_background": "light"
     },
     "output_type": "display_data"
    },
    {
     "data": {
      "image/png": "[encoded data removed]",
      "text/plain": [
       "<Figure size 432x288 with 1 Axes>"
      ]
     },
     "metadata": {
      "needs_background": "light"
     },
     "output_type": "display_data"
    },
    {
     "name": "stdout",
     "output_type": "stream",
     "text": [
      "Maximum Values and Neuron Count:\n",
      "\tMean Absolute Percentage Error Training Data:  0.7389304541538515\n",
      "\tNeuron Count:  99\n",
      "\tMean Absolute Percentage Error Testing Data:  1.2172845284576408\n",
      "\tNeuron Count:  90\n",
      "\tR2 Score Training Data:  0.008703570435031782\n",
      "\tNeuron Count:  58\n",
      "\tR2 Score Testing Data:  0.012004217280576102\n",
      "\tNeuron Count:  78\n"
     ]
    }
   ],
   "source": [
    "# Create 100 different models with a different neuron \n",
    "# count in the only hidden layer\n",
    "\n",
    "# Create Models\n",
    "MODEL_COUNT = 100\n",
    "\n",
    "models = []\n",
    "for i in range(MODEL_COUNT):\n",
    "    models.append(LinearRegressionModel(3, 1, [i+1]))\n",
    "\n",
    "#training for linear regression\n",
    "EPOCHS = 10\n",
    "\n",
    "mape_trn = []\n",
    "mape_tst = []\n",
    "r2_trn = []\n",
    "r2_tst = []\n",
    "for i in range(len(models)):\n",
    "    model = models[i]\n",
    "    neuron_count = i+1\n",
    "    for epoch in range(EPOCHS):\n",
    "        y_pred_e = []\n",
    "        for i in range(len(X_trn)):\n",
    "            x = T.from_numpy(X_trn[i]).float()\n",
    "            y = T.from_numpy(Y_trn[i]).float()\n",
    "\n",
    "            pred_y = model(x)\n",
    "            y_pred_e.append(pred_y.item())\n",
    "\n",
    "            loss = model.criterion(pred_y, y)\n",
    "\n",
    "            model.optimizer.zero_grad()\n",
    "            loss.backward()\n",
    "            model.optimizer.step()\n",
    "            #print('epoch {}, loss {}'.format(epoch, loss.item()))\n",
    "        y_pred_trn = y_pred_e\n",
    "\n",
    "    #testing for linear regression\n",
    "    y_pred_tst = []\n",
    "    for x in X_tst:\n",
    "        pred = model(T.from_numpy(x).float()).item()\n",
    "        y_pred_tst.append(pred)\n",
    "    \n",
    "    print(\"Neurons in hidden layer: \", neuron_count)\n",
    "    print(\"Mean Squared Error:\")\n",
    "    print(\"\\tTraining:\", mean_squared_error(Y_trn, y_pred_trn))\n",
    "    print(\"\\tTesting:\", mean_squared_error(Y_tst, y_pred_tst))\n",
    "\n",
    "    print(\"R2 Score:\")\n",
    "    print(\"\\tTraining:\", r2_score(Y_trn, y_pred_trn))\n",
    "    r2_trn.append(r2_score(Y_trn, y_pred_trn))\n",
    "    print(\"\\tTesting:\", r2_score(Y_tst, y_pred_tst))\n",
    "    r2_tst.append(r2_score(Y_tst, y_pred_tst))\n",
    "    \n",
    "    print(\"Mean Absolute Percentage Error:\")\n",
    "    print(\"\\tTraining:\", mean_absolute_percentage_error(Y_trn, y_pred_trn))\n",
    "    mape_trn.append(mean_absolute_percentage_error(Y_trn, y_pred_trn))\n",
    "    print(\"\\tTesting:\", mean_absolute_percentage_error(Y_tst, y_pred_tst))\n",
    "    mape_tst.append(mean_absolute_percentage_error(Y_tst, y_pred_tst))\n",
    "    print(\"\\n\\n\")\n",
    "\n",
    "#Graph results from all models\n",
    "fig1, ax1 = plt.subplots()\n",
    "ax1.plot(mape_trn)\n",
    "ax1.title.set_text(\"Mean Absolute Percentage Error: Training Data\")\n",
    "ax1.set(ylabel=\"MAPE\", xlabel=\"Neurons\")\n",
    "\n",
    "fig2, ax2 = plt.subplots()\n",
    "ax2.plot(mape_tst)\n",
    "ax2.title.set_text(\"Mean Absolute Percentage Error: Testing Data\")\n",
    "ax2.set(ylabel=\"MAPE\", xlabel=\"Neurons\")\n",
    "\n",
    "fig3, ax3 = plt.subplots()\n",
    "ax3.plot(r2_trn)\n",
    "ax3.title.set_text(\"R2 Score: Training Data\")\n",
    "ax3.set(ylabel=\"R2 Score\", xlabel=\"Neurons\")\n",
    "\n",
    "fig4, ax4 = plt.subplots()\n",
    "ax4.plot(r2_tst)\n",
    "ax4.title.set_text(\"R2 Score: Testing Data\")\n",
    "ax4.set(ylabel=\"R2 Score\", xlabel=\"Neurons\")\n",
    "plt.show()\n",
    "\n",
    "print(\"Maximum Values and Neuron Count:\")\n",
    "print(\"\\tMean Absolute Percentage Error Training Data: \", max(mape_trn))\n",
    "print(\"\\tNeuron Count: \", mape_trn.index(max(mape_trn)))\n",
    "print(\"\\tMean Absolute Percentage Error Testing Data: \", max(mape_tst))\n",
    "print(\"\\tNeuron Count: \", mape_tst.index(max(mape_tst)))\n",
    "\n",
    "for i in range(len(r2_trn)):\n",
    "    r2_trn[i] = abs(r2_trn[i])\n",
    "print(\"\\tR2 Score Training Data: \", min(r2_trn))\n",
    "print(\"\\tNeuron Count: \", r2_trn.index(min(r2_trn)))\n",
    "\n",
    "for i in range(len(r2_tst)):\n",
    "    r2_tst[i] = abs(r2_tst[i])\n",
    "print(\"\\tR2 Score Testing Data: \", min(r2_tst))\n",
    "print(\"\\tNeuron Count: \", r2_tst.index(min(r2_tst)))\n"
   ]
  },
  {
   "cell_type": "code",
   "execution_count": 72,
   "id": "502c8415",
   "metadata": {},
   "outputs": [
    {
     "name": "stderr",
     "output_type": "stream",
     "text": [
      "/home/dsapienza/anaconda3/envs/reinforcement-learning-env/lib/python3.9/site-packages/torch/nn/_reduction.py:42: UserWarning: size_average and reduce args will be deprecated, please use reduction='sum' instead.\n",
      "  warnings.warn(warning.format(ret))\n",
      "/home/dsapienza/anaconda3/envs/reinforcement-learning-env/lib/python3.9/site-packages/torch/nn/functional.py:1709: UserWarning: nn.functional.sigmoid is deprecated. Use torch.sigmoid instead.\n",
      "  warnings.warn(\"nn.functional.sigmoid is deprecated. Use torch.sigmoid instead.\")\n"
     ]
    },
    {
     "name": "stdout",
     "output_type": "stream",
     "text": [
      "Neurons in hidden layer:  1\n",
      "Mean Squared Error:\n",
      "\tTraining: 145.55129654385962\n",
      "\tTesting: 138.39508848913044\n",
      "R2 Score:\n",
      "\tTraining: -3.635114625304638\n",
      "\tTesting: -3.5506561242863937\n",
      "Mean Absolute Percentage Error:\n",
      "\tTraining: 0.8768032939149797\n",
      "\tTesting: 0.8733969845701499\n",
      "\n",
      "\n",
      "\n"
     ]
    },
    {
     "name": "stderr",
     "output_type": "stream",
     "text": [
      "/home/dsapienza/anaconda3/envs/reinforcement-learning-env/lib/python3.9/site-packages/torch/nn/functional.py:1709: UserWarning: nn.functional.sigmoid is deprecated. Use torch.sigmoid instead.\n",
      "  warnings.warn(\"nn.functional.sigmoid is deprecated. Use torch.sigmoid instead.\")\n"
     ]
    },
    {
     "name": "stdout",
     "output_type": "stream",
     "text": [
      "Neurons in hidden layer:  2\n",
      "Mean Squared Error:\n",
      "\tTraining: 145.55129654385962\n",
      "\tTesting: 138.39508848913044\n",
      "R2 Score:\n",
      "\tTraining: -3.635114625304638\n",
      "\tTesting: -3.5506561242863937\n",
      "Mean Absolute Percentage Error:\n",
      "\tTraining: 0.8768032939149797\n",
      "\tTesting: 0.8733969845701499\n",
      "\n",
      "\n",
      "\n"
     ]
    },
    {
     "name": "stderr",
     "output_type": "stream",
     "text": [
      "/home/dsapienza/anaconda3/envs/reinforcement-learning-env/lib/python3.9/site-packages/torch/nn/functional.py:1709: UserWarning: nn.functional.sigmoid is deprecated. Use torch.sigmoid instead.\n",
      "  warnings.warn(\"nn.functional.sigmoid is deprecated. Use torch.sigmoid instead.\")\n"
     ]
    },
    {
     "name": "stdout",
     "output_type": "stream",
     "text": [
      "Neurons in hidden layer:  3\n",
      "Mean Squared Error:\n",
      "\tTraining: 145.55129654385962\n",
      "\tTesting: 138.39508848913044\n",
      "R2 Score:\n",
      "\tTraining: -3.635114625304638\n",
      "\tTesting: -3.5506561242863937\n",
      "Mean Absolute Percentage Error:\n",
      "\tTraining: 0.8768032939149797\n",
      "\tTesting: 0.8733969845701499\n",
      "\n",
      "\n",
      "\n"
     ]
    },
    {
     "name": "stderr",
     "output_type": "stream",
     "text": [
      "/home/dsapienza/anaconda3/envs/reinforcement-learning-env/lib/python3.9/site-packages/torch/nn/functional.py:1709: UserWarning: nn.functional.sigmoid is deprecated. Use torch.sigmoid instead.\n",
      "  warnings.warn(\"nn.functional.sigmoid is deprecated. Use torch.sigmoid instead.\")\n"
     ]
    },
    {
     "name": "stdout",
     "output_type": "stream",
     "text": [
      "Neurons in hidden layer:  4\n",
      "Mean Squared Error:\n",
      "\tTraining: 145.55129654385962\n",
      "\tTesting: 138.39508848913044\n",
      "R2 Score:\n",
      "\tTraining: -3.635114625304638\n",
      "\tTesting: -3.5506561242863937\n",
      "Mean Absolute Percentage Error:\n",
      "\tTraining: 0.8768032939149797\n",
      "\tTesting: 0.8733969845701499\n",
      "\n",
      "\n",
      "\n"
     ]
    },
    {
     "name": "stderr",
     "output_type": "stream",
     "text": [
      "/home/dsapienza/anaconda3/envs/reinforcement-learning-env/lib/python3.9/site-packages/torch/nn/functional.py:1709: UserWarning: nn.functional.sigmoid is deprecated. Use torch.sigmoid instead.\n",
      "  warnings.warn(\"nn.functional.sigmoid is deprecated. Use torch.sigmoid instead.\")\n"
     ]
    },
    {
     "name": "stdout",
     "output_type": "stream",
     "text": [
      "Neurons in hidden layer:  5\n",
      "Mean Squared Error:\n",
      "\tTraining: 145.55129654385962\n",
      "\tTesting: 138.39508848913044\n",
      "R2 Score:\n",
      "\tTraining: -3.635114625304638\n",
      "\tTesting: -3.5506561242863937\n",
      "Mean Absolute Percentage Error:\n",
      "\tTraining: 0.8768032939149797\n",
      "\tTesting: 0.8733969845701499\n",
      "\n",
      "\n",
      "\n"
     ]
    },
    {
     "name": "stderr",
     "output_type": "stream",
     "text": [
      "/home/dsapienza/anaconda3/envs/reinforcement-learning-env/lib/python3.9/site-packages/torch/nn/functional.py:1709: UserWarning: nn.functional.sigmoid is deprecated. Use torch.sigmoid instead.\n",
      "  warnings.warn(\"nn.functional.sigmoid is deprecated. Use torch.sigmoid instead.\")\n"
     ]
    },
    {
     "name": "stdout",
     "output_type": "stream",
     "text": [
      "Neurons in hidden layer:  6\n",
      "Mean Squared Error:\n",
      "\tTraining: 145.55129654385962\n",
      "\tTesting: 138.39508848913044\n",
      "R2 Score:\n",
      "\tTraining: -3.635114625304638\n",
      "\tTesting: -3.5506561242863937\n",
      "Mean Absolute Percentage Error:\n",
      "\tTraining: 0.8768032939149797\n",
      "\tTesting: 0.8733969845701499\n",
      "\n",
      "\n",
      "\n"
     ]
    },
    {
     "name": "stderr",
     "output_type": "stream",
     "text": [
      "/home/dsapienza/anaconda3/envs/reinforcement-learning-env/lib/python3.9/site-packages/torch/nn/functional.py:1709: UserWarning: nn.functional.sigmoid is deprecated. Use torch.sigmoid instead.\n",
      "  warnings.warn(\"nn.functional.sigmoid is deprecated. Use torch.sigmoid instead.\")\n"
     ]
    },
    {
     "name": "stdout",
     "output_type": "stream",
     "text": [
      "Neurons in hidden layer:  7\n",
      "Mean Squared Error:\n",
      "\tTraining: 145.55129654385962\n",
      "\tTesting: 138.39508848913044\n",
      "R2 Score:\n",
      "\tTraining: -3.635114625304638\n",
      "\tTesting: -3.5506561242863937\n",
      "Mean Absolute Percentage Error:\n",
      "\tTraining: 0.8768032939149797\n",
      "\tTesting: 0.8733969845701499\n",
      "\n",
      "\n",
      "\n"
     ]
    },
    {
     "name": "stderr",
     "output_type": "stream",
     "text": [
      "/home/dsapienza/anaconda3/envs/reinforcement-learning-env/lib/python3.9/site-packages/torch/nn/functional.py:1709: UserWarning: nn.functional.sigmoid is deprecated. Use torch.sigmoid instead.\n",
      "  warnings.warn(\"nn.functional.sigmoid is deprecated. Use torch.sigmoid instead.\")\n"
     ]
    },
    {
     "name": "stdout",
     "output_type": "stream",
     "text": [
      "Neurons in hidden layer:  8\n",
      "Mean Squared Error:\n",
      "\tTraining: 145.55129654385962\n",
      "\tTesting: 138.39508848913044\n",
      "R2 Score:\n",
      "\tTraining: -3.635114625304638\n",
      "\tTesting: -3.5506561242863937\n",
      "Mean Absolute Percentage Error:\n",
      "\tTraining: 0.8768032939149797\n",
      "\tTesting: 0.8733969845701499\n",
      "\n",
      "\n",
      "\n"
     ]
    },
    {
     "name": "stderr",
     "output_type": "stream",
     "text": [
      "/home/dsapienza/anaconda3/envs/reinforcement-learning-env/lib/python3.9/site-packages/torch/nn/functional.py:1709: UserWarning: nn.functional.sigmoid is deprecated. Use torch.sigmoid instead.\n",
      "  warnings.warn(\"nn.functional.sigmoid is deprecated. Use torch.sigmoid instead.\")\n"
     ]
    },
    {
     "name": "stdout",
     "output_type": "stream",
     "text": [
      "Neurons in hidden layer:  9\n",
      "Mean Squared Error:\n",
      "\tTraining: 145.55129654385962\n",
      "\tTesting: 138.39508848913044\n",
      "R2 Score:\n",
      "\tTraining: -3.635114625304638\n",
      "\tTesting: -3.5506561242863937\n",
      "Mean Absolute Percentage Error:\n",
      "\tTraining: 0.8768032939149797\n",
      "\tTesting: 0.8733969845701499\n",
      "\n",
      "\n",
      "\n"
     ]
    },
    {
     "name": "stderr",
     "output_type": "stream",
     "text": [
      "/home/dsapienza/anaconda3/envs/reinforcement-learning-env/lib/python3.9/site-packages/torch/nn/functional.py:1709: UserWarning: nn.functional.sigmoid is deprecated. Use torch.sigmoid instead.\n",
      "  warnings.warn(\"nn.functional.sigmoid is deprecated. Use torch.sigmoid instead.\")\n"
     ]
    },
    {
     "name": "stdout",
     "output_type": "stream",
     "text": [
      "Neurons in hidden layer:  10\n",
      "Mean Squared Error:\n",
      "\tTraining: 145.55129654385962\n",
      "\tTesting: 138.39508848913044\n",
      "R2 Score:\n",
      "\tTraining: -3.635114625304638\n",
      "\tTesting: -3.5506561242863937\n",
      "Mean Absolute Percentage Error:\n",
      "\tTraining: 0.8768032939149797\n",
      "\tTesting: 0.8733969845701499\n",
      "\n",
      "\n",
      "\n"
     ]
    },
    {
     "name": "stderr",
     "output_type": "stream",
     "text": [
      "/home/dsapienza/anaconda3/envs/reinforcement-learning-env/lib/python3.9/site-packages/torch/nn/functional.py:1709: UserWarning: nn.functional.sigmoid is deprecated. Use torch.sigmoid instead.\n",
      "  warnings.warn(\"nn.functional.sigmoid is deprecated. Use torch.sigmoid instead.\")\n"
     ]
    },
    {
     "name": "stdout",
     "output_type": "stream",
     "text": [
      "Neurons in hidden layer:  11\n",
      "Mean Squared Error:\n",
      "\tTraining: 167.91944294434361\n",
      "\tTesting: 160.17805950362322\n",
      "R2 Score:\n",
      "\tTraining: -4.34743340901672\n",
      "\tTesting: -4.2669157223287035\n",
      "Mean Absolute Percentage Error:\n",
      "\tTraining: 1.0\n",
      "\tTesting: 1.0\n",
      "\n",
      "\n",
      "\n"
     ]
    },
    {
     "name": "stderr",
     "output_type": "stream",
     "text": [
      "/home/dsapienza/anaconda3/envs/reinforcement-learning-env/lib/python3.9/site-packages/torch/nn/functional.py:1709: UserWarning: nn.functional.sigmoid is deprecated. Use torch.sigmoid instead.\n",
      "  warnings.warn(\"nn.functional.sigmoid is deprecated. Use torch.sigmoid instead.\")\n"
     ]
    },
    {
     "name": "stdout",
     "output_type": "stream",
     "text": [
      "Neurons in hidden layer:  12\n",
      "Mean Squared Error:\n",
      "\tTraining: 145.55129654385962\n",
      "\tTesting: 138.39508848913044\n",
      "R2 Score:\n",
      "\tTraining: -3.635114625304638\n",
      "\tTesting: -3.5506561242863937\n",
      "Mean Absolute Percentage Error:\n",
      "\tTraining: 0.8768032939149797\n",
      "\tTesting: 0.8733969845701499\n",
      "\n",
      "\n",
      "\n"
     ]
    },
    {
     "name": "stderr",
     "output_type": "stream",
     "text": [
      "/home/dsapienza/anaconda3/envs/reinforcement-learning-env/lib/python3.9/site-packages/torch/nn/functional.py:1709: UserWarning: nn.functional.sigmoid is deprecated. Use torch.sigmoid instead.\n",
      "  warnings.warn(\"nn.functional.sigmoid is deprecated. Use torch.sigmoid instead.\")\n"
     ]
    },
    {
     "name": "stdout",
     "output_type": "stream",
     "text": [
      "Neurons in hidden layer:  13\n",
      "Mean Squared Error:\n",
      "\tTraining: 145.55129654385962\n",
      "\tTesting: 138.39508848913044\n",
      "R2 Score:\n",
      "\tTraining: -3.635114625304638\n",
      "\tTesting: -3.5506561242863937\n",
      "Mean Absolute Percentage Error:\n",
      "\tTraining: 0.8768032939149797\n",
      "\tTesting: 0.8733969845701499\n",
      "\n",
      "\n",
      "\n"
     ]
    },
    {
     "name": "stderr",
     "output_type": "stream",
     "text": [
      "/home/dsapienza/anaconda3/envs/reinforcement-learning-env/lib/python3.9/site-packages/torch/nn/functional.py:1709: UserWarning: nn.functional.sigmoid is deprecated. Use torch.sigmoid instead.\n",
      "  warnings.warn(\"nn.functional.sigmoid is deprecated. Use torch.sigmoid instead.\")\n"
     ]
    },
    {
     "name": "stdout",
     "output_type": "stream",
     "text": [
      "Neurons in hidden layer:  14\n",
      "Mean Squared Error:\n",
      "\tTraining: 145.55129654385962\n",
      "\tTesting: 138.39508848913044\n",
      "R2 Score:\n",
      "\tTraining: -3.635114625304638\n",
      "\tTesting: -3.5506561242863937\n",
      "Mean Absolute Percentage Error:\n",
      "\tTraining: 0.8768032939149797\n",
      "\tTesting: 0.8733969845701499\n",
      "\n",
      "\n",
      "\n"
     ]
    },
    {
     "name": "stderr",
     "output_type": "stream",
     "text": [
      "/home/dsapienza/anaconda3/envs/reinforcement-learning-env/lib/python3.9/site-packages/torch/nn/functional.py:1709: UserWarning: nn.functional.sigmoid is deprecated. Use torch.sigmoid instead.\n",
      "  warnings.warn(\"nn.functional.sigmoid is deprecated. Use torch.sigmoid instead.\")\n"
     ]
    },
    {
     "name": "stdout",
     "output_type": "stream",
     "text": [
      "Neurons in hidden layer:  15\n",
      "Mean Squared Error:\n",
      "\tTraining: 145.55129654385962\n",
      "\tTesting: 138.39508848913044\n",
      "R2 Score:\n",
      "\tTraining: -3.635114625304638\n",
      "\tTesting: -3.5506561242863937\n",
      "Mean Absolute Percentage Error:\n",
      "\tTraining: 0.8768032939149797\n",
      "\tTesting: 0.8733969845701499\n",
      "\n",
      "\n",
      "\n"
     ]
    },
    {
     "name": "stderr",
     "output_type": "stream",
     "text": [
      "/home/dsapienza/anaconda3/envs/reinforcement-learning-env/lib/python3.9/site-packages/torch/nn/functional.py:1709: UserWarning: nn.functional.sigmoid is deprecated. Use torch.sigmoid instead.\n",
      "  warnings.warn(\"nn.functional.sigmoid is deprecated. Use torch.sigmoid instead.\")\n"
     ]
    },
    {
     "name": "stdout",
     "output_type": "stream",
     "text": [
      "Neurons in hidden layer:  16\n",
      "Mean Squared Error:\n",
      "\tTraining: 145.55129654385962\n",
      "\tTesting: 138.39508848913044\n",
      "R2 Score:\n",
      "\tTraining: -3.635114625304638\n",
      "\tTesting: -3.5506561242863937\n",
      "Mean Absolute Percentage Error:\n",
      "\tTraining: 0.8768032939149797\n",
      "\tTesting: 0.8733969845701499\n",
      "\n",
      "\n",
      "\n"
     ]
    },
    {
     "name": "stderr",
     "output_type": "stream",
     "text": [
      "/home/dsapienza/anaconda3/envs/reinforcement-learning-env/lib/python3.9/site-packages/torch/nn/functional.py:1709: UserWarning: nn.functional.sigmoid is deprecated. Use torch.sigmoid instead.\n",
      "  warnings.warn(\"nn.functional.sigmoid is deprecated. Use torch.sigmoid instead.\")\n"
     ]
    },
    {
     "name": "stdout",
     "output_type": "stream",
     "text": [
      "Neurons in hidden layer:  17\n",
      "Mean Squared Error:\n",
      "\tTraining: 145.55129654385962\n",
      "\tTesting: 138.39508848913044\n",
      "R2 Score:\n",
      "\tTraining: -3.635114625304638\n",
      "\tTesting: -3.5506561242863937\n",
      "Mean Absolute Percentage Error:\n",
      "\tTraining: 0.8768032939149797\n",
      "\tTesting: 0.8733969845701499\n",
      "\n",
      "\n",
      "\n"
     ]
    },
    {
     "name": "stderr",
     "output_type": "stream",
     "text": [
      "/home/dsapienza/anaconda3/envs/reinforcement-learning-env/lib/python3.9/site-packages/torch/nn/functional.py:1709: UserWarning: nn.functional.sigmoid is deprecated. Use torch.sigmoid instead.\n",
      "  warnings.warn(\"nn.functional.sigmoid is deprecated. Use torch.sigmoid instead.\")\n"
     ]
    },
    {
     "name": "stdout",
     "output_type": "stream",
     "text": [
      "Neurons in hidden layer:  18\n",
      "Mean Squared Error:\n",
      "\tTraining: 167.91944294434361\n",
      "\tTesting: 160.17805950362322\n",
      "R2 Score:\n",
      "\tTraining: -4.34743340901672\n",
      "\tTesting: -4.2669157223287035\n",
      "Mean Absolute Percentage Error:\n",
      "\tTraining: 1.0\n",
      "\tTesting: 1.0\n",
      "\n",
      "\n",
      "\n"
     ]
    },
    {
     "name": "stderr",
     "output_type": "stream",
     "text": [
      "/home/dsapienza/anaconda3/envs/reinforcement-learning-env/lib/python3.9/site-packages/torch/nn/functional.py:1709: UserWarning: nn.functional.sigmoid is deprecated. Use torch.sigmoid instead.\n",
      "  warnings.warn(\"nn.functional.sigmoid is deprecated. Use torch.sigmoid instead.\")\n"
     ]
    },
    {
     "name": "stdout",
     "output_type": "stream",
     "text": [
      "Neurons in hidden layer:  19\n",
      "Mean Squared Error:\n",
      "\tTraining: 167.91944294434361\n",
      "\tTesting: 160.17805950362322\n",
      "R2 Score:\n",
      "\tTraining: -4.34743340901672\n",
      "\tTesting: -4.2669157223287035\n",
      "Mean Absolute Percentage Error:\n",
      "\tTraining: 1.0\n",
      "\tTesting: 1.0\n",
      "\n",
      "\n",
      "\n"
     ]
    },
    {
     "name": "stderr",
     "output_type": "stream",
     "text": [
      "/home/dsapienza/anaconda3/envs/reinforcement-learning-env/lib/python3.9/site-packages/torch/nn/functional.py:1709: UserWarning: nn.functional.sigmoid is deprecated. Use torch.sigmoid instead.\n",
      "  warnings.warn(\"nn.functional.sigmoid is deprecated. Use torch.sigmoid instead.\")\n"
     ]
    },
    {
     "name": "stdout",
     "output_type": "stream",
     "text": [
      "Neurons in hidden layer:  20\n",
      "Mean Squared Error:\n",
      "\tTraining: 145.55129654385962\n",
      "\tTesting: 138.39508848913044\n",
      "R2 Score:\n",
      "\tTraining: -3.635114625304638\n",
      "\tTesting: -3.5506561242863937\n",
      "Mean Absolute Percentage Error:\n",
      "\tTraining: 0.8768032939149797\n",
      "\tTesting: 0.8733969845701499\n",
      "\n",
      "\n",
      "\n"
     ]
    },
    {
     "name": "stderr",
     "output_type": "stream",
     "text": [
      "/home/dsapienza/anaconda3/envs/reinforcement-learning-env/lib/python3.9/site-packages/torch/nn/functional.py:1709: UserWarning: nn.functional.sigmoid is deprecated. Use torch.sigmoid instead.\n",
      "  warnings.warn(\"nn.functional.sigmoid is deprecated. Use torch.sigmoid instead.\")\n"
     ]
    },
    {
     "name": "stdout",
     "output_type": "stream",
     "text": [
      "Neurons in hidden layer:  21\n",
      "Mean Squared Error:\n",
      "\tTraining: 145.55129654385962\n",
      "\tTesting: 138.39508848913044\n",
      "R2 Score:\n",
      "\tTraining: -3.635114625304638\n",
      "\tTesting: -3.5506561242863937\n",
      "Mean Absolute Percentage Error:\n",
      "\tTraining: 0.8768032939149797\n",
      "\tTesting: 0.8733969845701499\n",
      "\n",
      "\n",
      "\n"
     ]
    },
    {
     "name": "stderr",
     "output_type": "stream",
     "text": [
      "/home/dsapienza/anaconda3/envs/reinforcement-learning-env/lib/python3.9/site-packages/torch/nn/functional.py:1709: UserWarning: nn.functional.sigmoid is deprecated. Use torch.sigmoid instead.\n",
      "  warnings.warn(\"nn.functional.sigmoid is deprecated. Use torch.sigmoid instead.\")\n"
     ]
    },
    {
     "name": "stdout",
     "output_type": "stream",
     "text": [
      "Neurons in hidden layer:  22\n",
      "Mean Squared Error:\n",
      "\tTraining: 145.55129654385962\n",
      "\tTesting: 138.39508848913044\n",
      "R2 Score:\n",
      "\tTraining: -3.635114625304638\n",
      "\tTesting: -3.5506561242863937\n",
      "Mean Absolute Percentage Error:\n",
      "\tTraining: 0.8768032939149797\n",
      "\tTesting: 0.8733969845701499\n",
      "\n",
      "\n",
      "\n"
     ]
    },
    {
     "name": "stderr",
     "output_type": "stream",
     "text": [
      "/home/dsapienza/anaconda3/envs/reinforcement-learning-env/lib/python3.9/site-packages/torch/nn/functional.py:1709: UserWarning: nn.functional.sigmoid is deprecated. Use torch.sigmoid instead.\n",
      "  warnings.warn(\"nn.functional.sigmoid is deprecated. Use torch.sigmoid instead.\")\n"
     ]
    },
    {
     "name": "stdout",
     "output_type": "stream",
     "text": [
      "Neurons in hidden layer:  23\n",
      "Mean Squared Error:\n",
      "\tTraining: 145.55129654385962\n",
      "\tTesting: 138.39508848913044\n",
      "R2 Score:\n",
      "\tTraining: -3.635114625304638\n",
      "\tTesting: -3.5506561242863937\n",
      "Mean Absolute Percentage Error:\n",
      "\tTraining: 0.8768032939149797\n",
      "\tTesting: 0.8733969845701499\n",
      "\n",
      "\n",
      "\n"
     ]
    },
    {
     "name": "stderr",
     "output_type": "stream",
     "text": [
      "/home/dsapienza/anaconda3/envs/reinforcement-learning-env/lib/python3.9/site-packages/torch/nn/functional.py:1709: UserWarning: nn.functional.sigmoid is deprecated. Use torch.sigmoid instead.\n",
      "  warnings.warn(\"nn.functional.sigmoid is deprecated. Use torch.sigmoid instead.\")\n"
     ]
    },
    {
     "name": "stdout",
     "output_type": "stream",
     "text": [
      "Neurons in hidden layer:  24\n",
      "Mean Squared Error:\n",
      "\tTraining: 145.55129654385962\n",
      "\tTesting: 138.39508848913044\n",
      "R2 Score:\n",
      "\tTraining: -3.635114625304638\n",
      "\tTesting: -3.5506561242863937\n",
      "Mean Absolute Percentage Error:\n",
      "\tTraining: 0.8768032939149797\n",
      "\tTesting: 0.8733969845701499\n",
      "\n",
      "\n",
      "\n"
     ]
    },
    {
     "name": "stderr",
     "output_type": "stream",
     "text": [
      "/home/dsapienza/anaconda3/envs/reinforcement-learning-env/lib/python3.9/site-packages/torch/nn/functional.py:1709: UserWarning: nn.functional.sigmoid is deprecated. Use torch.sigmoid instead.\n",
      "  warnings.warn(\"nn.functional.sigmoid is deprecated. Use torch.sigmoid instead.\")\n"
     ]
    },
    {
     "name": "stdout",
     "output_type": "stream",
     "text": [
      "Neurons in hidden layer:  25\n",
      "Mean Squared Error:\n",
      "\tTraining: 145.55129654385962\n",
      "\tTesting: 138.39508848913044\n",
      "R2 Score:\n",
      "\tTraining: -3.635114625304638\n",
      "\tTesting: -3.5506561242863937\n",
      "Mean Absolute Percentage Error:\n",
      "\tTraining: 0.8768032939149797\n",
      "\tTesting: 0.8733969845701499\n",
      "\n",
      "\n",
      "\n"
     ]
    },
    {
     "name": "stderr",
     "output_type": "stream",
     "text": [
      "/home/dsapienza/anaconda3/envs/reinforcement-learning-env/lib/python3.9/site-packages/torch/nn/functional.py:1709: UserWarning: nn.functional.sigmoid is deprecated. Use torch.sigmoid instead.\n",
      "  warnings.warn(\"nn.functional.sigmoid is deprecated. Use torch.sigmoid instead.\")\n"
     ]
    },
    {
     "name": "stdout",
     "output_type": "stream",
     "text": [
      "Neurons in hidden layer:  26\n",
      "Mean Squared Error:\n",
      "\tTraining: 145.55129654385962\n",
      "\tTesting: 138.39508848913044\n",
      "R2 Score:\n",
      "\tTraining: -3.635114625304638\n",
      "\tTesting: -3.5506561242863937\n",
      "Mean Absolute Percentage Error:\n",
      "\tTraining: 0.8768032939149797\n",
      "\tTesting: 0.8733969845701499\n",
      "\n",
      "\n",
      "\n"
     ]
    },
    {
     "name": "stderr",
     "output_type": "stream",
     "text": [
      "/home/dsapienza/anaconda3/envs/reinforcement-learning-env/lib/python3.9/site-packages/torch/nn/functional.py:1709: UserWarning: nn.functional.sigmoid is deprecated. Use torch.sigmoid instead.\n",
      "  warnings.warn(\"nn.functional.sigmoid is deprecated. Use torch.sigmoid instead.\")\n"
     ]
    },
    {
     "name": "stdout",
     "output_type": "stream",
     "text": [
      "Neurons in hidden layer:  27\n",
      "Mean Squared Error:\n",
      "\tTraining: 145.55129654385962\n",
      "\tTesting: 138.39508848913044\n",
      "R2 Score:\n",
      "\tTraining: -3.635114625304638\n",
      "\tTesting: -3.5506561242863937\n",
      "Mean Absolute Percentage Error:\n",
      "\tTraining: 0.8768032939149797\n",
      "\tTesting: 0.8733969845701499\n",
      "\n",
      "\n",
      "\n"
     ]
    },
    {
     "name": "stderr",
     "output_type": "stream",
     "text": [
      "/home/dsapienza/anaconda3/envs/reinforcement-learning-env/lib/python3.9/site-packages/torch/nn/functional.py:1709: UserWarning: nn.functional.sigmoid is deprecated. Use torch.sigmoid instead.\n",
      "  warnings.warn(\"nn.functional.sigmoid is deprecated. Use torch.sigmoid instead.\")\n"
     ]
    },
    {
     "name": "stdout",
     "output_type": "stream",
     "text": [
      "Neurons in hidden layer:  28\n",
      "Mean Squared Error:\n",
      "\tTraining: 145.55129654385962\n",
      "\tTesting: 138.39508848913044\n",
      "R2 Score:\n",
      "\tTraining: -3.635114625304638\n",
      "\tTesting: -3.5506561242863937\n",
      "Mean Absolute Percentage Error:\n",
      "\tTraining: 0.8768032939149797\n",
      "\tTesting: 0.8733969845701499\n",
      "\n",
      "\n",
      "\n"
     ]
    },
    {
     "name": "stderr",
     "output_type": "stream",
     "text": [
      "/home/dsapienza/anaconda3/envs/reinforcement-learning-env/lib/python3.9/site-packages/torch/nn/functional.py:1709: UserWarning: nn.functional.sigmoid is deprecated. Use torch.sigmoid instead.\n",
      "  warnings.warn(\"nn.functional.sigmoid is deprecated. Use torch.sigmoid instead.\")\n"
     ]
    },
    {
     "name": "stdout",
     "output_type": "stream",
     "text": [
      "Neurons in hidden layer:  29\n",
      "Mean Squared Error:\n",
      "\tTraining: 145.55129654385962\n",
      "\tTesting: 138.39508848913044\n",
      "R2 Score:\n",
      "\tTraining: -3.635114625304638\n",
      "\tTesting: -3.5506561242863937\n",
      "Mean Absolute Percentage Error:\n",
      "\tTraining: 0.8768032939149797\n",
      "\tTesting: 0.8733969845701499\n",
      "\n",
      "\n",
      "\n"
     ]
    },
    {
     "name": "stderr",
     "output_type": "stream",
     "text": [
      "/home/dsapienza/anaconda3/envs/reinforcement-learning-env/lib/python3.9/site-packages/torch/nn/functional.py:1709: UserWarning: nn.functional.sigmoid is deprecated. Use torch.sigmoid instead.\n",
      "  warnings.warn(\"nn.functional.sigmoid is deprecated. Use torch.sigmoid instead.\")\n"
     ]
    },
    {
     "name": "stdout",
     "output_type": "stream",
     "text": [
      "Neurons in hidden layer:  30\n",
      "Mean Squared Error:\n",
      "\tTraining: 145.55129654385962\n",
      "\tTesting: 138.39508848913044\n",
      "R2 Score:\n",
      "\tTraining: -3.635114625304638\n",
      "\tTesting: -3.5506561242863937\n",
      "Mean Absolute Percentage Error:\n",
      "\tTraining: 0.8768032939149797\n",
      "\tTesting: 0.8733969845701499\n",
      "\n",
      "\n",
      "\n"
     ]
    },
    {
     "name": "stderr",
     "output_type": "stream",
     "text": [
      "/home/dsapienza/anaconda3/envs/reinforcement-learning-env/lib/python3.9/site-packages/torch/nn/functional.py:1709: UserWarning: nn.functional.sigmoid is deprecated. Use torch.sigmoid instead.\n",
      "  warnings.warn(\"nn.functional.sigmoid is deprecated. Use torch.sigmoid instead.\")\n"
     ]
    },
    {
     "name": "stdout",
     "output_type": "stream",
     "text": [
      "Neurons in hidden layer:  31\n",
      "Mean Squared Error:\n",
      "\tTraining: 145.55129654385962\n",
      "\tTesting: 138.39508848913044\n",
      "R2 Score:\n",
      "\tTraining: -3.635114625304638\n",
      "\tTesting: -3.5506561242863937\n",
      "Mean Absolute Percentage Error:\n",
      "\tTraining: 0.8768032939149797\n",
      "\tTesting: 0.8733969845701499\n",
      "\n",
      "\n",
      "\n"
     ]
    },
    {
     "name": "stderr",
     "output_type": "stream",
     "text": [
      "/home/dsapienza/anaconda3/envs/reinforcement-learning-env/lib/python3.9/site-packages/torch/nn/functional.py:1709: UserWarning: nn.functional.sigmoid is deprecated. Use torch.sigmoid instead.\n",
      "  warnings.warn(\"nn.functional.sigmoid is deprecated. Use torch.sigmoid instead.\")\n"
     ]
    },
    {
     "name": "stdout",
     "output_type": "stream",
     "text": [
      "Neurons in hidden layer:  32\n",
      "Mean Squared Error:\n",
      "\tTraining: 145.55129654385962\n",
      "\tTesting: 138.39508848913044\n",
      "R2 Score:\n",
      "\tTraining: -3.635114625304638\n",
      "\tTesting: -3.5506561242863937\n",
      "Mean Absolute Percentage Error:\n",
      "\tTraining: 0.8768032939149797\n",
      "\tTesting: 0.8733969845701499\n",
      "\n",
      "\n",
      "\n"
     ]
    },
    {
     "name": "stderr",
     "output_type": "stream",
     "text": [
      "/home/dsapienza/anaconda3/envs/reinforcement-learning-env/lib/python3.9/site-packages/torch/nn/functional.py:1709: UserWarning: nn.functional.sigmoid is deprecated. Use torch.sigmoid instead.\n",
      "  warnings.warn(\"nn.functional.sigmoid is deprecated. Use torch.sigmoid instead.\")\n"
     ]
    },
    {
     "name": "stdout",
     "output_type": "stream",
     "text": [
      "Neurons in hidden layer:  33\n",
      "Mean Squared Error:\n",
      "\tTraining: 145.55129654385962\n",
      "\tTesting: 138.39508848913044\n",
      "R2 Score:\n",
      "\tTraining: -3.635114625304638\n",
      "\tTesting: -3.5506561242863937\n",
      "Mean Absolute Percentage Error:\n",
      "\tTraining: 0.8768032939149797\n",
      "\tTesting: 0.8733969845701499\n",
      "\n",
      "\n",
      "\n"
     ]
    },
    {
     "name": "stderr",
     "output_type": "stream",
     "text": [
      "/home/dsapienza/anaconda3/envs/reinforcement-learning-env/lib/python3.9/site-packages/torch/nn/functional.py:1709: UserWarning: nn.functional.sigmoid is deprecated. Use torch.sigmoid instead.\n",
      "  warnings.warn(\"nn.functional.sigmoid is deprecated. Use torch.sigmoid instead.\")\n"
     ]
    },
    {
     "name": "stdout",
     "output_type": "stream",
     "text": [
      "Neurons in hidden layer:  34\n",
      "Mean Squared Error:\n",
      "\tTraining: 145.55129654385962\n",
      "\tTesting: 138.39508848913044\n",
      "R2 Score:\n",
      "\tTraining: -3.635114625304638\n",
      "\tTesting: -3.5506561242863937\n",
      "Mean Absolute Percentage Error:\n",
      "\tTraining: 0.8768032939149797\n",
      "\tTesting: 0.8733969845701499\n",
      "\n",
      "\n",
      "\n"
     ]
    },
    {
     "name": "stderr",
     "output_type": "stream",
     "text": [
      "/home/dsapienza/anaconda3/envs/reinforcement-learning-env/lib/python3.9/site-packages/torch/nn/functional.py:1709: UserWarning: nn.functional.sigmoid is deprecated. Use torch.sigmoid instead.\n",
      "  warnings.warn(\"nn.functional.sigmoid is deprecated. Use torch.sigmoid instead.\")\n"
     ]
    },
    {
     "name": "stdout",
     "output_type": "stream",
     "text": [
      "Neurons in hidden layer:  35\n",
      "Mean Squared Error:\n",
      "\tTraining: 145.55129654385962\n",
      "\tTesting: 138.39508848913044\n",
      "R2 Score:\n",
      "\tTraining: -3.635114625304638\n",
      "\tTesting: -3.5506561242863937\n",
      "Mean Absolute Percentage Error:\n",
      "\tTraining: 0.8768032939149797\n",
      "\tTesting: 0.8733969845701499\n",
      "\n",
      "\n",
      "\n"
     ]
    },
    {
     "name": "stderr",
     "output_type": "stream",
     "text": [
      "/home/dsapienza/anaconda3/envs/reinforcement-learning-env/lib/python3.9/site-packages/torch/nn/functional.py:1709: UserWarning: nn.functional.sigmoid is deprecated. Use torch.sigmoid instead.\n",
      "  warnings.warn(\"nn.functional.sigmoid is deprecated. Use torch.sigmoid instead.\")\n"
     ]
    },
    {
     "name": "stdout",
     "output_type": "stream",
     "text": [
      "Neurons in hidden layer:  36\n",
      "Mean Squared Error:\n",
      "\tTraining: 145.55129654385962\n",
      "\tTesting: 138.39508848913044\n",
      "R2 Score:\n",
      "\tTraining: -3.635114625304638\n",
      "\tTesting: -3.5506561242863937\n",
      "Mean Absolute Percentage Error:\n",
      "\tTraining: 0.8768032939149797\n",
      "\tTesting: 0.8733969845701499\n",
      "\n",
      "\n",
      "\n"
     ]
    },
    {
     "name": "stderr",
     "output_type": "stream",
     "text": [
      "/home/dsapienza/anaconda3/envs/reinforcement-learning-env/lib/python3.9/site-packages/torch/nn/functional.py:1709: UserWarning: nn.functional.sigmoid is deprecated. Use torch.sigmoid instead.\n",
      "  warnings.warn(\"nn.functional.sigmoid is deprecated. Use torch.sigmoid instead.\")\n"
     ]
    },
    {
     "name": "stdout",
     "output_type": "stream",
     "text": [
      "Neurons in hidden layer:  37\n",
      "Mean Squared Error:\n",
      "\tTraining: 145.55129654385962\n",
      "\tTesting: 138.39508848913044\n",
      "R2 Score:\n",
      "\tTraining: -3.635114625304638\n",
      "\tTesting: -3.5506561242863937\n",
      "Mean Absolute Percentage Error:\n",
      "\tTraining: 0.8768032939149797\n",
      "\tTesting: 0.8733969845701499\n",
      "\n",
      "\n",
      "\n"
     ]
    },
    {
     "name": "stderr",
     "output_type": "stream",
     "text": [
      "/home/dsapienza/anaconda3/envs/reinforcement-learning-env/lib/python3.9/site-packages/torch/nn/functional.py:1709: UserWarning: nn.functional.sigmoid is deprecated. Use torch.sigmoid instead.\n",
      "  warnings.warn(\"nn.functional.sigmoid is deprecated. Use torch.sigmoid instead.\")\n"
     ]
    },
    {
     "name": "stdout",
     "output_type": "stream",
     "text": [
      "Neurons in hidden layer:  38\n",
      "Mean Squared Error:\n",
      "\tTraining: 145.55129654385962\n",
      "\tTesting: 138.39508848913044\n",
      "R2 Score:\n",
      "\tTraining: -3.635114625304638\n",
      "\tTesting: -3.5506561242863937\n",
      "Mean Absolute Percentage Error:\n",
      "\tTraining: 0.8768032939149797\n",
      "\tTesting: 0.8733969845701499\n",
      "\n",
      "\n",
      "\n"
     ]
    },
    {
     "name": "stderr",
     "output_type": "stream",
     "text": [
      "/home/dsapienza/anaconda3/envs/reinforcement-learning-env/lib/python3.9/site-packages/torch/nn/functional.py:1709: UserWarning: nn.functional.sigmoid is deprecated. Use torch.sigmoid instead.\n",
      "  warnings.warn(\"nn.functional.sigmoid is deprecated. Use torch.sigmoid instead.\")\n"
     ]
    },
    {
     "name": "stdout",
     "output_type": "stream",
     "text": [
      "Neurons in hidden layer:  39\n",
      "Mean Squared Error:\n",
      "\tTraining: 145.55129654385962\n",
      "\tTesting: 138.39508848913044\n",
      "R2 Score:\n",
      "\tTraining: -3.635114625304638\n",
      "\tTesting: -3.5506561242863937\n",
      "Mean Absolute Percentage Error:\n",
      "\tTraining: 0.8768032939149797\n",
      "\tTesting: 0.8733969845701499\n",
      "\n",
      "\n",
      "\n"
     ]
    },
    {
     "name": "stderr",
     "output_type": "stream",
     "text": [
      "/home/dsapienza/anaconda3/envs/reinforcement-learning-env/lib/python3.9/site-packages/torch/nn/functional.py:1709: UserWarning: nn.functional.sigmoid is deprecated. Use torch.sigmoid instead.\n",
      "  warnings.warn(\"nn.functional.sigmoid is deprecated. Use torch.sigmoid instead.\")\n"
     ]
    },
    {
     "name": "stdout",
     "output_type": "stream",
     "text": [
      "Neurons in hidden layer:  40\n",
      "Mean Squared Error:\n",
      "\tTraining: 145.55129654385962\n",
      "\tTesting: 138.39508848913044\n",
      "R2 Score:\n",
      "\tTraining: -3.635114625304638\n",
      "\tTesting: -3.5506561242863937\n",
      "Mean Absolute Percentage Error:\n",
      "\tTraining: 0.8768032939149797\n",
      "\tTesting: 0.8733969845701499\n",
      "\n",
      "\n",
      "\n"
     ]
    },
    {
     "name": "stderr",
     "output_type": "stream",
     "text": [
      "/home/dsapienza/anaconda3/envs/reinforcement-learning-env/lib/python3.9/site-packages/torch/nn/functional.py:1709: UserWarning: nn.functional.sigmoid is deprecated. Use torch.sigmoid instead.\n",
      "  warnings.warn(\"nn.functional.sigmoid is deprecated. Use torch.sigmoid instead.\")\n"
     ]
    },
    {
     "name": "stdout",
     "output_type": "stream",
     "text": [
      "Neurons in hidden layer:  41\n",
      "Mean Squared Error:\n",
      "\tTraining: 145.55129654385962\n",
      "\tTesting: 138.39508848913044\n",
      "R2 Score:\n",
      "\tTraining: -3.635114625304638\n",
      "\tTesting: -3.5506561242863937\n",
      "Mean Absolute Percentage Error:\n",
      "\tTraining: 0.8768032939149797\n",
      "\tTesting: 0.8733969845701499\n",
      "\n",
      "\n",
      "\n"
     ]
    },
    {
     "name": "stderr",
     "output_type": "stream",
     "text": [
      "/home/dsapienza/anaconda3/envs/reinforcement-learning-env/lib/python3.9/site-packages/torch/nn/functional.py:1709: UserWarning: nn.functional.sigmoid is deprecated. Use torch.sigmoid instead.\n",
      "  warnings.warn(\"nn.functional.sigmoid is deprecated. Use torch.sigmoid instead.\")\n"
     ]
    },
    {
     "name": "stdout",
     "output_type": "stream",
     "text": [
      "Neurons in hidden layer:  42\n",
      "Mean Squared Error:\n",
      "\tTraining: 145.55129654385962\n",
      "\tTesting: 138.39508848913044\n",
      "R2 Score:\n",
      "\tTraining: -3.635114625304638\n",
      "\tTesting: -3.5506561242863937\n",
      "Mean Absolute Percentage Error:\n",
      "\tTraining: 0.8768032939149797\n",
      "\tTesting: 0.8733969845701499\n",
      "\n",
      "\n",
      "\n"
     ]
    },
    {
     "name": "stderr",
     "output_type": "stream",
     "text": [
      "/home/dsapienza/anaconda3/envs/reinforcement-learning-env/lib/python3.9/site-packages/torch/nn/functional.py:1709: UserWarning: nn.functional.sigmoid is deprecated. Use torch.sigmoid instead.\n",
      "  warnings.warn(\"nn.functional.sigmoid is deprecated. Use torch.sigmoid instead.\")\n"
     ]
    },
    {
     "name": "stdout",
     "output_type": "stream",
     "text": [
      "Neurons in hidden layer:  43\n",
      "Mean Squared Error:\n",
      "\tTraining: 145.55129654385962\n",
      "\tTesting: 138.39508848913044\n",
      "R2 Score:\n",
      "\tTraining: -3.635114625304638\n",
      "\tTesting: -3.5506561242863937\n",
      "Mean Absolute Percentage Error:\n",
      "\tTraining: 0.8768032939149797\n",
      "\tTesting: 0.8733969845701499\n",
      "\n",
      "\n",
      "\n"
     ]
    },
    {
     "name": "stderr",
     "output_type": "stream",
     "text": [
      "/home/dsapienza/anaconda3/envs/reinforcement-learning-env/lib/python3.9/site-packages/torch/nn/functional.py:1709: UserWarning: nn.functional.sigmoid is deprecated. Use torch.sigmoid instead.\n",
      "  warnings.warn(\"nn.functional.sigmoid is deprecated. Use torch.sigmoid instead.\")\n"
     ]
    },
    {
     "name": "stdout",
     "output_type": "stream",
     "text": [
      "Neurons in hidden layer:  44\n",
      "Mean Squared Error:\n",
      "\tTraining: 145.55129654385962\n",
      "\tTesting: 138.39508848913044\n",
      "R2 Score:\n",
      "\tTraining: -3.635114625304638\n",
      "\tTesting: -3.5506561242863937\n",
      "Mean Absolute Percentage Error:\n",
      "\tTraining: 0.8768032939149797\n",
      "\tTesting: 0.8733969845701499\n",
      "\n",
      "\n",
      "\n"
     ]
    },
    {
     "name": "stderr",
     "output_type": "stream",
     "text": [
      "/home/dsapienza/anaconda3/envs/reinforcement-learning-env/lib/python3.9/site-packages/torch/nn/functional.py:1709: UserWarning: nn.functional.sigmoid is deprecated. Use torch.sigmoid instead.\n",
      "  warnings.warn(\"nn.functional.sigmoid is deprecated. Use torch.sigmoid instead.\")\n"
     ]
    },
    {
     "name": "stdout",
     "output_type": "stream",
     "text": [
      "Neurons in hidden layer:  45\n",
      "Mean Squared Error:\n",
      "\tTraining: 167.91944294434361\n",
      "\tTesting: 160.17805950362322\n",
      "R2 Score:\n",
      "\tTraining: -4.34743340901672\n",
      "\tTesting: -4.2669157223287035\n",
      "Mean Absolute Percentage Error:\n",
      "\tTraining: 1.0\n",
      "\tTesting: 1.0\n",
      "\n",
      "\n",
      "\n"
     ]
    },
    {
     "name": "stderr",
     "output_type": "stream",
     "text": [
      "/home/dsapienza/anaconda3/envs/reinforcement-learning-env/lib/python3.9/site-packages/torch/nn/functional.py:1709: UserWarning: nn.functional.sigmoid is deprecated. Use torch.sigmoid instead.\n",
      "  warnings.warn(\"nn.functional.sigmoid is deprecated. Use torch.sigmoid instead.\")\n"
     ]
    },
    {
     "name": "stdout",
     "output_type": "stream",
     "text": [
      "Neurons in hidden layer:  46\n",
      "Mean Squared Error:\n",
      "\tTraining: 145.55129654385962\n",
      "\tTesting: 138.39508848913044\n",
      "R2 Score:\n",
      "\tTraining: -3.635114625304638\n",
      "\tTesting: -3.5506561242863937\n",
      "Mean Absolute Percentage Error:\n",
      "\tTraining: 0.8768032939149797\n",
      "\tTesting: 0.8733969845701499\n",
      "\n",
      "\n",
      "\n"
     ]
    },
    {
     "name": "stderr",
     "output_type": "stream",
     "text": [
      "/home/dsapienza/anaconda3/envs/reinforcement-learning-env/lib/python3.9/site-packages/torch/nn/functional.py:1709: UserWarning: nn.functional.sigmoid is deprecated. Use torch.sigmoid instead.\n",
      "  warnings.warn(\"nn.functional.sigmoid is deprecated. Use torch.sigmoid instead.\")\n"
     ]
    },
    {
     "name": "stdout",
     "output_type": "stream",
     "text": [
      "Neurons in hidden layer:  47\n",
      "Mean Squared Error:\n",
      "\tTraining: 145.55129654385962\n",
      "\tTesting: 138.39508848913044\n",
      "R2 Score:\n",
      "\tTraining: -3.635114625304638\n",
      "\tTesting: -3.5506561242863937\n",
      "Mean Absolute Percentage Error:\n",
      "\tTraining: 0.8768032939149797\n",
      "\tTesting: 0.8733969845701499\n",
      "\n",
      "\n",
      "\n"
     ]
    },
    {
     "name": "stderr",
     "output_type": "stream",
     "text": [
      "/home/dsapienza/anaconda3/envs/reinforcement-learning-env/lib/python3.9/site-packages/torch/nn/functional.py:1709: UserWarning: nn.functional.sigmoid is deprecated. Use torch.sigmoid instead.\n",
      "  warnings.warn(\"nn.functional.sigmoid is deprecated. Use torch.sigmoid instead.\")\n"
     ]
    },
    {
     "name": "stdout",
     "output_type": "stream",
     "text": [
      "Neurons in hidden layer:  48\n",
      "Mean Squared Error:\n",
      "\tTraining: 145.55129654385962\n",
      "\tTesting: 138.39508848913044\n",
      "R2 Score:\n",
      "\tTraining: -3.635114625304638\n",
      "\tTesting: -3.5506561242863937\n",
      "Mean Absolute Percentage Error:\n",
      "\tTraining: 0.8768032939149797\n",
      "\tTesting: 0.8733969845701499\n",
      "\n",
      "\n",
      "\n"
     ]
    },
    {
     "name": "stderr",
     "output_type": "stream",
     "text": [
      "/home/dsapienza/anaconda3/envs/reinforcement-learning-env/lib/python3.9/site-packages/torch/nn/functional.py:1709: UserWarning: nn.functional.sigmoid is deprecated. Use torch.sigmoid instead.\n",
      "  warnings.warn(\"nn.functional.sigmoid is deprecated. Use torch.sigmoid instead.\")\n"
     ]
    },
    {
     "name": "stdout",
     "output_type": "stream",
     "text": [
      "Neurons in hidden layer:  49\n",
      "Mean Squared Error:\n",
      "\tTraining: 167.91944294434361\n",
      "\tTesting: 160.17805950362322\n",
      "R2 Score:\n",
      "\tTraining: -4.34743340901672\n",
      "\tTesting: -4.2669157223287035\n",
      "Mean Absolute Percentage Error:\n",
      "\tTraining: 1.0\n",
      "\tTesting: 1.0\n",
      "\n",
      "\n",
      "\n"
     ]
    },
    {
     "name": "stderr",
     "output_type": "stream",
     "text": [
      "/home/dsapienza/anaconda3/envs/reinforcement-learning-env/lib/python3.9/site-packages/torch/nn/functional.py:1709: UserWarning: nn.functional.sigmoid is deprecated. Use torch.sigmoid instead.\n",
      "  warnings.warn(\"nn.functional.sigmoid is deprecated. Use torch.sigmoid instead.\")\n"
     ]
    },
    {
     "name": "stdout",
     "output_type": "stream",
     "text": [
      "Neurons in hidden layer:  50\n",
      "Mean Squared Error:\n",
      "\tTraining: 145.55129654385962\n",
      "\tTesting: 138.39508848913044\n",
      "R2 Score:\n",
      "\tTraining: -3.635114625304638\n",
      "\tTesting: -3.5506561242863937\n",
      "Mean Absolute Percentage Error:\n",
      "\tTraining: 0.8768032939149797\n",
      "\tTesting: 0.8733969845701499\n",
      "\n",
      "\n",
      "\n"
     ]
    },
    {
     "name": "stderr",
     "output_type": "stream",
     "text": [
      "/home/dsapienza/anaconda3/envs/reinforcement-learning-env/lib/python3.9/site-packages/torch/nn/functional.py:1709: UserWarning: nn.functional.sigmoid is deprecated. Use torch.sigmoid instead.\n",
      "  warnings.warn(\"nn.functional.sigmoid is deprecated. Use torch.sigmoid instead.\")\n"
     ]
    },
    {
     "name": "stdout",
     "output_type": "stream",
     "text": [
      "Neurons in hidden layer:  51\n",
      "Mean Squared Error:\n",
      "\tTraining: 145.55129654385962\n",
      "\tTesting: 138.39508848913044\n",
      "R2 Score:\n",
      "\tTraining: -3.635114625304638\n",
      "\tTesting: -3.5506561242863937\n",
      "Mean Absolute Percentage Error:\n",
      "\tTraining: 0.8768032939149797\n",
      "\tTesting: 0.8733969845701499\n",
      "\n",
      "\n",
      "\n"
     ]
    },
    {
     "name": "stderr",
     "output_type": "stream",
     "text": [
      "/home/dsapienza/anaconda3/envs/reinforcement-learning-env/lib/python3.9/site-packages/torch/nn/functional.py:1709: UserWarning: nn.functional.sigmoid is deprecated. Use torch.sigmoid instead.\n",
      "  warnings.warn(\"nn.functional.sigmoid is deprecated. Use torch.sigmoid instead.\")\n"
     ]
    },
    {
     "name": "stdout",
     "output_type": "stream",
     "text": [
      "Neurons in hidden layer:  52\n",
      "Mean Squared Error:\n",
      "\tTraining: 145.55129654385962\n",
      "\tTesting: 138.39508848913044\n",
      "R2 Score:\n",
      "\tTraining: -3.635114625304638\n",
      "\tTesting: -3.5506561242863937\n",
      "Mean Absolute Percentage Error:\n",
      "\tTraining: 0.8768032939149797\n",
      "\tTesting: 0.8733969845701499\n",
      "\n",
      "\n",
      "\n"
     ]
    },
    {
     "name": "stderr",
     "output_type": "stream",
     "text": [
      "/home/dsapienza/anaconda3/envs/reinforcement-learning-env/lib/python3.9/site-packages/torch/nn/functional.py:1709: UserWarning: nn.functional.sigmoid is deprecated. Use torch.sigmoid instead.\n",
      "  warnings.warn(\"nn.functional.sigmoid is deprecated. Use torch.sigmoid instead.\")\n"
     ]
    },
    {
     "name": "stdout",
     "output_type": "stream",
     "text": [
      "Neurons in hidden layer:  53\n",
      "Mean Squared Error:\n",
      "\tTraining: 145.55129654385962\n",
      "\tTesting: 138.39508848913044\n",
      "R2 Score:\n",
      "\tTraining: -3.635114625304638\n",
      "\tTesting: -3.5506561242863937\n",
      "Mean Absolute Percentage Error:\n",
      "\tTraining: 0.8768032939149797\n",
      "\tTesting: 0.8733969845701499\n",
      "\n",
      "\n",
      "\n"
     ]
    },
    {
     "name": "stderr",
     "output_type": "stream",
     "text": [
      "/home/dsapienza/anaconda3/envs/reinforcement-learning-env/lib/python3.9/site-packages/torch/nn/functional.py:1709: UserWarning: nn.functional.sigmoid is deprecated. Use torch.sigmoid instead.\n",
      "  warnings.warn(\"nn.functional.sigmoid is deprecated. Use torch.sigmoid instead.\")\n"
     ]
    },
    {
     "name": "stdout",
     "output_type": "stream",
     "text": [
      "Neurons in hidden layer:  54\n",
      "Mean Squared Error:\n",
      "\tTraining: 145.55129654385962\n",
      "\tTesting: 138.39508848913044\n",
      "R2 Score:\n",
      "\tTraining: -3.635114625304638\n",
      "\tTesting: -3.5506561242863937\n",
      "Mean Absolute Percentage Error:\n",
      "\tTraining: 0.8768032939149797\n",
      "\tTesting: 0.8733969845701499\n",
      "\n",
      "\n",
      "\n"
     ]
    },
    {
     "name": "stderr",
     "output_type": "stream",
     "text": [
      "/home/dsapienza/anaconda3/envs/reinforcement-learning-env/lib/python3.9/site-packages/torch/nn/functional.py:1709: UserWarning: nn.functional.sigmoid is deprecated. Use torch.sigmoid instead.\n",
      "  warnings.warn(\"nn.functional.sigmoid is deprecated. Use torch.sigmoid instead.\")\n"
     ]
    },
    {
     "name": "stdout",
     "output_type": "stream",
     "text": [
      "Neurons in hidden layer:  55\n",
      "Mean Squared Error:\n",
      "\tTraining: 145.55129654385962\n",
      "\tTesting: 138.39508848913044\n",
      "R2 Score:\n",
      "\tTraining: -3.635114625304638\n",
      "\tTesting: -3.5506561242863937\n",
      "Mean Absolute Percentage Error:\n",
      "\tTraining: 0.8768032939149797\n",
      "\tTesting: 0.8733969845701499\n",
      "\n",
      "\n",
      "\n"
     ]
    },
    {
     "name": "stderr",
     "output_type": "stream",
     "text": [
      "/home/dsapienza/anaconda3/envs/reinforcement-learning-env/lib/python3.9/site-packages/torch/nn/functional.py:1709: UserWarning: nn.functional.sigmoid is deprecated. Use torch.sigmoid instead.\n",
      "  warnings.warn(\"nn.functional.sigmoid is deprecated. Use torch.sigmoid instead.\")\n"
     ]
    },
    {
     "name": "stdout",
     "output_type": "stream",
     "text": [
      "Neurons in hidden layer:  56\n",
      "Mean Squared Error:\n",
      "\tTraining: 167.91944294434361\n",
      "\tTesting: 160.17805950362322\n",
      "R2 Score:\n",
      "\tTraining: -4.34743340901672\n",
      "\tTesting: -4.2669157223287035\n",
      "Mean Absolute Percentage Error:\n",
      "\tTraining: 1.0\n",
      "\tTesting: 1.0\n",
      "\n",
      "\n",
      "\n"
     ]
    },
    {
     "name": "stderr",
     "output_type": "stream",
     "text": [
      "/home/dsapienza/anaconda3/envs/reinforcement-learning-env/lib/python3.9/site-packages/torch/nn/functional.py:1709: UserWarning: nn.functional.sigmoid is deprecated. Use torch.sigmoid instead.\n",
      "  warnings.warn(\"nn.functional.sigmoid is deprecated. Use torch.sigmoid instead.\")\n"
     ]
    },
    {
     "name": "stdout",
     "output_type": "stream",
     "text": [
      "Neurons in hidden layer:  57\n",
      "Mean Squared Error:\n",
      "\tTraining: 145.55129654385962\n",
      "\tTesting: 138.39508848913044\n",
      "R2 Score:\n",
      "\tTraining: -3.635114625304638\n",
      "\tTesting: -3.5506561242863937\n",
      "Mean Absolute Percentage Error:\n",
      "\tTraining: 0.8768032939149797\n",
      "\tTesting: 0.8733969845701499\n",
      "\n",
      "\n",
      "\n"
     ]
    },
    {
     "name": "stderr",
     "output_type": "stream",
     "text": [
      "/home/dsapienza/anaconda3/envs/reinforcement-learning-env/lib/python3.9/site-packages/torch/nn/functional.py:1709: UserWarning: nn.functional.sigmoid is deprecated. Use torch.sigmoid instead.\n",
      "  warnings.warn(\"nn.functional.sigmoid is deprecated. Use torch.sigmoid instead.\")\n"
     ]
    },
    {
     "name": "stdout",
     "output_type": "stream",
     "text": [
      "Neurons in hidden layer:  58\n",
      "Mean Squared Error:\n",
      "\tTraining: 145.55129654385962\n",
      "\tTesting: 138.39508848913044\n",
      "R2 Score:\n",
      "\tTraining: -3.635114625304638\n",
      "\tTesting: -3.5506561242863937\n",
      "Mean Absolute Percentage Error:\n",
      "\tTraining: 0.8768032939149797\n",
      "\tTesting: 0.8733969845701499\n",
      "\n",
      "\n",
      "\n"
     ]
    },
    {
     "name": "stderr",
     "output_type": "stream",
     "text": [
      "/home/dsapienza/anaconda3/envs/reinforcement-learning-env/lib/python3.9/site-packages/torch/nn/functional.py:1709: UserWarning: nn.functional.sigmoid is deprecated. Use torch.sigmoid instead.\n",
      "  warnings.warn(\"nn.functional.sigmoid is deprecated. Use torch.sigmoid instead.\")\n"
     ]
    },
    {
     "name": "stdout",
     "output_type": "stream",
     "text": [
      "Neurons in hidden layer:  59\n",
      "Mean Squared Error:\n",
      "\tTraining: 145.55129654385962\n",
      "\tTesting: 138.39508848913044\n",
      "R2 Score:\n",
      "\tTraining: -3.635114625304638\n",
      "\tTesting: -3.5506561242863937\n",
      "Mean Absolute Percentage Error:\n",
      "\tTraining: 0.8768032939149797\n",
      "\tTesting: 0.8733969845701499\n",
      "\n",
      "\n",
      "\n"
     ]
    },
    {
     "name": "stderr",
     "output_type": "stream",
     "text": [
      "/home/dsapienza/anaconda3/envs/reinforcement-learning-env/lib/python3.9/site-packages/torch/nn/functional.py:1709: UserWarning: nn.functional.sigmoid is deprecated. Use torch.sigmoid instead.\n",
      "  warnings.warn(\"nn.functional.sigmoid is deprecated. Use torch.sigmoid instead.\")\n"
     ]
    },
    {
     "name": "stdout",
     "output_type": "stream",
     "text": [
      "Neurons in hidden layer:  60\n",
      "Mean Squared Error:\n",
      "\tTraining: 145.55129654385962\n",
      "\tTesting: 138.39508848913044\n",
      "R2 Score:\n",
      "\tTraining: -3.635114625304638\n",
      "\tTesting: -3.5506561242863937\n",
      "Mean Absolute Percentage Error:\n",
      "\tTraining: 0.8768032939149797\n",
      "\tTesting: 0.8733969845701499\n",
      "\n",
      "\n",
      "\n"
     ]
    },
    {
     "name": "stderr",
     "output_type": "stream",
     "text": [
      "/home/dsapienza/anaconda3/envs/reinforcement-learning-env/lib/python3.9/site-packages/torch/nn/functional.py:1709: UserWarning: nn.functional.sigmoid is deprecated. Use torch.sigmoid instead.\n",
      "  warnings.warn(\"nn.functional.sigmoid is deprecated. Use torch.sigmoid instead.\")\n"
     ]
    },
    {
     "name": "stdout",
     "output_type": "stream",
     "text": [
      "Neurons in hidden layer:  61\n",
      "Mean Squared Error:\n",
      "\tTraining: 145.55129654385962\n",
      "\tTesting: 138.39508848913044\n",
      "R2 Score:\n",
      "\tTraining: -3.635114625304638\n",
      "\tTesting: -3.5506561242863937\n",
      "Mean Absolute Percentage Error:\n",
      "\tTraining: 0.8768032939149797\n",
      "\tTesting: 0.8733969845701499\n",
      "\n",
      "\n",
      "\n"
     ]
    },
    {
     "name": "stderr",
     "output_type": "stream",
     "text": [
      "/home/dsapienza/anaconda3/envs/reinforcement-learning-env/lib/python3.9/site-packages/torch/nn/functional.py:1709: UserWarning: nn.functional.sigmoid is deprecated. Use torch.sigmoid instead.\n",
      "  warnings.warn(\"nn.functional.sigmoid is deprecated. Use torch.sigmoid instead.\")\n"
     ]
    },
    {
     "name": "stdout",
     "output_type": "stream",
     "text": [
      "Neurons in hidden layer:  62\n",
      "Mean Squared Error:\n",
      "\tTraining: 167.91944294434361\n",
      "\tTesting: 160.17805950362322\n",
      "R2 Score:\n",
      "\tTraining: -4.34743340901672\n",
      "\tTesting: -4.2669157223287035\n",
      "Mean Absolute Percentage Error:\n",
      "\tTraining: 1.0\n",
      "\tTesting: 1.0\n",
      "\n",
      "\n",
      "\n"
     ]
    },
    {
     "name": "stderr",
     "output_type": "stream",
     "text": [
      "/home/dsapienza/anaconda3/envs/reinforcement-learning-env/lib/python3.9/site-packages/torch/nn/functional.py:1709: UserWarning: nn.functional.sigmoid is deprecated. Use torch.sigmoid instead.\n",
      "  warnings.warn(\"nn.functional.sigmoid is deprecated. Use torch.sigmoid instead.\")\n"
     ]
    },
    {
     "name": "stdout",
     "output_type": "stream",
     "text": [
      "Neurons in hidden layer:  63\n",
      "Mean Squared Error:\n",
      "\tTraining: 145.55129654385962\n",
      "\tTesting: 138.39508848913044\n",
      "R2 Score:\n",
      "\tTraining: -3.635114625304638\n",
      "\tTesting: -3.5506561242863937\n",
      "Mean Absolute Percentage Error:\n",
      "\tTraining: 0.8768032939149797\n",
      "\tTesting: 0.8733969845701499\n",
      "\n",
      "\n",
      "\n"
     ]
    },
    {
     "name": "stderr",
     "output_type": "stream",
     "text": [
      "/home/dsapienza/anaconda3/envs/reinforcement-learning-env/lib/python3.9/site-packages/torch/nn/functional.py:1709: UserWarning: nn.functional.sigmoid is deprecated. Use torch.sigmoid instead.\n",
      "  warnings.warn(\"nn.functional.sigmoid is deprecated. Use torch.sigmoid instead.\")\n"
     ]
    },
    {
     "name": "stdout",
     "output_type": "stream",
     "text": [
      "Neurons in hidden layer:  64\n",
      "Mean Squared Error:\n",
      "\tTraining: 167.91944294434361\n",
      "\tTesting: 160.17805950362322\n",
      "R2 Score:\n",
      "\tTraining: -4.34743340901672\n",
      "\tTesting: -4.2669157223287035\n",
      "Mean Absolute Percentage Error:\n",
      "\tTraining: 1.0\n",
      "\tTesting: 1.0\n",
      "\n",
      "\n",
      "\n"
     ]
    },
    {
     "name": "stderr",
     "output_type": "stream",
     "text": [
      "/home/dsapienza/anaconda3/envs/reinforcement-learning-env/lib/python3.9/site-packages/torch/nn/functional.py:1709: UserWarning: nn.functional.sigmoid is deprecated. Use torch.sigmoid instead.\n",
      "  warnings.warn(\"nn.functional.sigmoid is deprecated. Use torch.sigmoid instead.\")\n"
     ]
    },
    {
     "name": "stdout",
     "output_type": "stream",
     "text": [
      "Neurons in hidden layer:  65\n",
      "Mean Squared Error:\n",
      "\tTraining: 145.55129654385962\n",
      "\tTesting: 138.39508848913044\n",
      "R2 Score:\n",
      "\tTraining: -3.635114625304638\n",
      "\tTesting: -3.5506561242863937\n",
      "Mean Absolute Percentage Error:\n",
      "\tTraining: 0.8768032939149797\n",
      "\tTesting: 0.8733969845701499\n",
      "\n",
      "\n",
      "\n"
     ]
    },
    {
     "name": "stderr",
     "output_type": "stream",
     "text": [
      "/home/dsapienza/anaconda3/envs/reinforcement-learning-env/lib/python3.9/site-packages/torch/nn/functional.py:1709: UserWarning: nn.functional.sigmoid is deprecated. Use torch.sigmoid instead.\n",
      "  warnings.warn(\"nn.functional.sigmoid is deprecated. Use torch.sigmoid instead.\")\n"
     ]
    },
    {
     "name": "stdout",
     "output_type": "stream",
     "text": [
      "Neurons in hidden layer:  66\n",
      "Mean Squared Error:\n",
      "\tTraining: 145.55129654385962\n",
      "\tTesting: 138.39508848913044\n",
      "R2 Score:\n",
      "\tTraining: -3.635114625304638\n",
      "\tTesting: -3.5506561242863937\n",
      "Mean Absolute Percentage Error:\n",
      "\tTraining: 0.8768032939149797\n",
      "\tTesting: 0.8733969845701499\n",
      "\n",
      "\n",
      "\n"
     ]
    },
    {
     "name": "stderr",
     "output_type": "stream",
     "text": [
      "/home/dsapienza/anaconda3/envs/reinforcement-learning-env/lib/python3.9/site-packages/torch/nn/functional.py:1709: UserWarning: nn.functional.sigmoid is deprecated. Use torch.sigmoid instead.\n",
      "  warnings.warn(\"nn.functional.sigmoid is deprecated. Use torch.sigmoid instead.\")\n"
     ]
    },
    {
     "name": "stdout",
     "output_type": "stream",
     "text": [
      "Neurons in hidden layer:  67\n",
      "Mean Squared Error:\n",
      "\tTraining: 145.55129654385962\n",
      "\tTesting: 138.39508848913044\n",
      "R2 Score:\n",
      "\tTraining: -3.635114625304638\n",
      "\tTesting: -3.5506561242863937\n",
      "Mean Absolute Percentage Error:\n",
      "\tTraining: 0.8768032939149797\n",
      "\tTesting: 0.8733969845701499\n",
      "\n",
      "\n",
      "\n"
     ]
    },
    {
     "name": "stderr",
     "output_type": "stream",
     "text": [
      "/home/dsapienza/anaconda3/envs/reinforcement-learning-env/lib/python3.9/site-packages/torch/nn/functional.py:1709: UserWarning: nn.functional.sigmoid is deprecated. Use torch.sigmoid instead.\n",
      "  warnings.warn(\"nn.functional.sigmoid is deprecated. Use torch.sigmoid instead.\")\n"
     ]
    },
    {
     "name": "stdout",
     "output_type": "stream",
     "text": [
      "Neurons in hidden layer:  68\n",
      "Mean Squared Error:\n",
      "\tTraining: 145.55129654385962\n",
      "\tTesting: 138.39508848913044\n",
      "R2 Score:\n",
      "\tTraining: -3.635114625304638\n",
      "\tTesting: -3.5506561242863937\n",
      "Mean Absolute Percentage Error:\n",
      "\tTraining: 0.8768032939149797\n",
      "\tTesting: 0.8733969845701499\n",
      "\n",
      "\n",
      "\n"
     ]
    },
    {
     "name": "stderr",
     "output_type": "stream",
     "text": [
      "/home/dsapienza/anaconda3/envs/reinforcement-learning-env/lib/python3.9/site-packages/torch/nn/functional.py:1709: UserWarning: nn.functional.sigmoid is deprecated. Use torch.sigmoid instead.\n",
      "  warnings.warn(\"nn.functional.sigmoid is deprecated. Use torch.sigmoid instead.\")\n"
     ]
    },
    {
     "name": "stdout",
     "output_type": "stream",
     "text": [
      "Neurons in hidden layer:  69\n",
      "Mean Squared Error:\n",
      "\tTraining: 145.55129654385962\n",
      "\tTesting: 138.39508848913044\n",
      "R2 Score:\n",
      "\tTraining: -3.635114625304638\n",
      "\tTesting: -3.5506561242863937\n",
      "Mean Absolute Percentage Error:\n",
      "\tTraining: 0.8768032939149797\n",
      "\tTesting: 0.8733969845701499\n",
      "\n",
      "\n",
      "\n"
     ]
    },
    {
     "name": "stderr",
     "output_type": "stream",
     "text": [
      "/home/dsapienza/anaconda3/envs/reinforcement-learning-env/lib/python3.9/site-packages/torch/nn/functional.py:1709: UserWarning: nn.functional.sigmoid is deprecated. Use torch.sigmoid instead.\n",
      "  warnings.warn(\"nn.functional.sigmoid is deprecated. Use torch.sigmoid instead.\")\n"
     ]
    },
    {
     "name": "stdout",
     "output_type": "stream",
     "text": [
      "Neurons in hidden layer:  70\n",
      "Mean Squared Error:\n",
      "\tTraining: 145.55129654385962\n",
      "\tTesting: 138.39508848913044\n",
      "R2 Score:\n",
      "\tTraining: -3.635114625304638\n",
      "\tTesting: -3.5506561242863937\n",
      "Mean Absolute Percentage Error:\n",
      "\tTraining: 0.8768032939149797\n",
      "\tTesting: 0.8733969845701499\n",
      "\n",
      "\n",
      "\n"
     ]
    },
    {
     "name": "stderr",
     "output_type": "stream",
     "text": [
      "/home/dsapienza/anaconda3/envs/reinforcement-learning-env/lib/python3.9/site-packages/torch/nn/functional.py:1709: UserWarning: nn.functional.sigmoid is deprecated. Use torch.sigmoid instead.\n",
      "  warnings.warn(\"nn.functional.sigmoid is deprecated. Use torch.sigmoid instead.\")\n"
     ]
    },
    {
     "name": "stdout",
     "output_type": "stream",
     "text": [
      "Neurons in hidden layer:  71\n",
      "Mean Squared Error:\n",
      "\tTraining: 145.55129654385962\n",
      "\tTesting: 138.39508848913044\n",
      "R2 Score:\n",
      "\tTraining: -3.635114625304638\n",
      "\tTesting: -3.5506561242863937\n",
      "Mean Absolute Percentage Error:\n",
      "\tTraining: 0.8768032939149797\n",
      "\tTesting: 0.8733969845701499\n",
      "\n",
      "\n",
      "\n"
     ]
    },
    {
     "name": "stderr",
     "output_type": "stream",
     "text": [
      "/home/dsapienza/anaconda3/envs/reinforcement-learning-env/lib/python3.9/site-packages/torch/nn/functional.py:1709: UserWarning: nn.functional.sigmoid is deprecated. Use torch.sigmoid instead.\n",
      "  warnings.warn(\"nn.functional.sigmoid is deprecated. Use torch.sigmoid instead.\")\n"
     ]
    },
    {
     "name": "stdout",
     "output_type": "stream",
     "text": [
      "Neurons in hidden layer:  72\n",
      "Mean Squared Error:\n",
      "\tTraining: 145.55129654385962\n",
      "\tTesting: 138.39508848913044\n",
      "R2 Score:\n",
      "\tTraining: -3.635114625304638\n",
      "\tTesting: -3.5506561242863937\n",
      "Mean Absolute Percentage Error:\n",
      "\tTraining: 0.8768032939149797\n",
      "\tTesting: 0.8733969845701499\n",
      "\n",
      "\n",
      "\n"
     ]
    },
    {
     "name": "stderr",
     "output_type": "stream",
     "text": [
      "/home/dsapienza/anaconda3/envs/reinforcement-learning-env/lib/python3.9/site-packages/torch/nn/functional.py:1709: UserWarning: nn.functional.sigmoid is deprecated. Use torch.sigmoid instead.\n",
      "  warnings.warn(\"nn.functional.sigmoid is deprecated. Use torch.sigmoid instead.\")\n"
     ]
    },
    {
     "name": "stdout",
     "output_type": "stream",
     "text": [
      "Neurons in hidden layer:  73\n",
      "Mean Squared Error:\n",
      "\tTraining: 167.91944294434361\n",
      "\tTesting: 160.17805950362322\n",
      "R2 Score:\n",
      "\tTraining: -4.34743340901672\n",
      "\tTesting: -4.2669157223287035\n",
      "Mean Absolute Percentage Error:\n",
      "\tTraining: 1.0\n",
      "\tTesting: 1.0\n",
      "\n",
      "\n",
      "\n"
     ]
    },
    {
     "name": "stderr",
     "output_type": "stream",
     "text": [
      "/home/dsapienza/anaconda3/envs/reinforcement-learning-env/lib/python3.9/site-packages/torch/nn/functional.py:1709: UserWarning: nn.functional.sigmoid is deprecated. Use torch.sigmoid instead.\n",
      "  warnings.warn(\"nn.functional.sigmoid is deprecated. Use torch.sigmoid instead.\")\n"
     ]
    },
    {
     "name": "stdout",
     "output_type": "stream",
     "text": [
      "Neurons in hidden layer:  74\n",
      "Mean Squared Error:\n",
      "\tTraining: 145.55129654385962\n",
      "\tTesting: 138.39508848913044\n",
      "R2 Score:\n",
      "\tTraining: -3.635114625304638\n",
      "\tTesting: -3.5506561242863937\n",
      "Mean Absolute Percentage Error:\n",
      "\tTraining: 0.8768032939149797\n",
      "\tTesting: 0.8733969845701499\n",
      "\n",
      "\n",
      "\n"
     ]
    },
    {
     "name": "stderr",
     "output_type": "stream",
     "text": [
      "/home/dsapienza/anaconda3/envs/reinforcement-learning-env/lib/python3.9/site-packages/torch/nn/functional.py:1709: UserWarning: nn.functional.sigmoid is deprecated. Use torch.sigmoid instead.\n",
      "  warnings.warn(\"nn.functional.sigmoid is deprecated. Use torch.sigmoid instead.\")\n"
     ]
    },
    {
     "name": "stdout",
     "output_type": "stream",
     "text": [
      "Neurons in hidden layer:  75\n",
      "Mean Squared Error:\n",
      "\tTraining: 167.91944294434361\n",
      "\tTesting: 160.17805950362322\n",
      "R2 Score:\n",
      "\tTraining: -4.34743340901672\n",
      "\tTesting: -4.2669157223287035\n",
      "Mean Absolute Percentage Error:\n",
      "\tTraining: 1.0\n",
      "\tTesting: 1.0\n",
      "\n",
      "\n",
      "\n"
     ]
    },
    {
     "name": "stderr",
     "output_type": "stream",
     "text": [
      "/home/dsapienza/anaconda3/envs/reinforcement-learning-env/lib/python3.9/site-packages/torch/nn/functional.py:1709: UserWarning: nn.functional.sigmoid is deprecated. Use torch.sigmoid instead.\n",
      "  warnings.warn(\"nn.functional.sigmoid is deprecated. Use torch.sigmoid instead.\")\n"
     ]
    },
    {
     "name": "stdout",
     "output_type": "stream",
     "text": [
      "Neurons in hidden layer:  76\n",
      "Mean Squared Error:\n",
      "\tTraining: 145.55129654385962\n",
      "\tTesting: 138.39508848913044\n",
      "R2 Score:\n",
      "\tTraining: -3.635114625304638\n",
      "\tTesting: -3.5506561242863937\n",
      "Mean Absolute Percentage Error:\n",
      "\tTraining: 0.8768032939149797\n",
      "\tTesting: 0.8733969845701499\n",
      "\n",
      "\n",
      "\n"
     ]
    },
    {
     "name": "stderr",
     "output_type": "stream",
     "text": [
      "/home/dsapienza/anaconda3/envs/reinforcement-learning-env/lib/python3.9/site-packages/torch/nn/functional.py:1709: UserWarning: nn.functional.sigmoid is deprecated. Use torch.sigmoid instead.\n",
      "  warnings.warn(\"nn.functional.sigmoid is deprecated. Use torch.sigmoid instead.\")\n"
     ]
    },
    {
     "name": "stdout",
     "output_type": "stream",
     "text": [
      "Neurons in hidden layer:  77\n",
      "Mean Squared Error:\n",
      "\tTraining: 145.55129654385962\n",
      "\tTesting: 138.39508848913044\n",
      "R2 Score:\n",
      "\tTraining: -3.635114625304638\n",
      "\tTesting: -3.5506561242863937\n",
      "Mean Absolute Percentage Error:\n",
      "\tTraining: 0.8768032939149797\n",
      "\tTesting: 0.8733969845701499\n",
      "\n",
      "\n",
      "\n"
     ]
    },
    {
     "name": "stderr",
     "output_type": "stream",
     "text": [
      "/home/dsapienza/anaconda3/envs/reinforcement-learning-env/lib/python3.9/site-packages/torch/nn/functional.py:1709: UserWarning: nn.functional.sigmoid is deprecated. Use torch.sigmoid instead.\n",
      "  warnings.warn(\"nn.functional.sigmoid is deprecated. Use torch.sigmoid instead.\")\n"
     ]
    },
    {
     "name": "stdout",
     "output_type": "stream",
     "text": [
      "Neurons in hidden layer:  78\n",
      "Mean Squared Error:\n",
      "\tTraining: 145.55129654385962\n",
      "\tTesting: 138.39508848913044\n",
      "R2 Score:\n",
      "\tTraining: -3.635114625304638\n",
      "\tTesting: -3.5506561242863937\n",
      "Mean Absolute Percentage Error:\n",
      "\tTraining: 0.8768032939149797\n",
      "\tTesting: 0.8733969845701499\n",
      "\n",
      "\n",
      "\n"
     ]
    },
    {
     "name": "stderr",
     "output_type": "stream",
     "text": [
      "/home/dsapienza/anaconda3/envs/reinforcement-learning-env/lib/python3.9/site-packages/torch/nn/functional.py:1709: UserWarning: nn.functional.sigmoid is deprecated. Use torch.sigmoid instead.\n",
      "  warnings.warn(\"nn.functional.sigmoid is deprecated. Use torch.sigmoid instead.\")\n"
     ]
    },
    {
     "name": "stdout",
     "output_type": "stream",
     "text": [
      "Neurons in hidden layer:  79\n",
      "Mean Squared Error:\n",
      "\tTraining: 145.55129654385962\n",
      "\tTesting: 138.39508848913044\n",
      "R2 Score:\n",
      "\tTraining: -3.635114625304638\n",
      "\tTesting: -3.5506561242863937\n",
      "Mean Absolute Percentage Error:\n",
      "\tTraining: 0.8768032939149797\n",
      "\tTesting: 0.8733969845701499\n",
      "\n",
      "\n",
      "\n"
     ]
    },
    {
     "name": "stderr",
     "output_type": "stream",
     "text": [
      "/home/dsapienza/anaconda3/envs/reinforcement-learning-env/lib/python3.9/site-packages/torch/nn/functional.py:1709: UserWarning: nn.functional.sigmoid is deprecated. Use torch.sigmoid instead.\n",
      "  warnings.warn(\"nn.functional.sigmoid is deprecated. Use torch.sigmoid instead.\")\n"
     ]
    },
    {
     "name": "stdout",
     "output_type": "stream",
     "text": [
      "Neurons in hidden layer:  80\n",
      "Mean Squared Error:\n",
      "\tTraining: 145.55129654385962\n",
      "\tTesting: 138.39508848913044\n",
      "R2 Score:\n",
      "\tTraining: -3.635114625304638\n",
      "\tTesting: -3.5506561242863937\n",
      "Mean Absolute Percentage Error:\n",
      "\tTraining: 0.8768032939149797\n",
      "\tTesting: 0.8733969845701499\n",
      "\n",
      "\n",
      "\n"
     ]
    },
    {
     "name": "stderr",
     "output_type": "stream",
     "text": [
      "/home/dsapienza/anaconda3/envs/reinforcement-learning-env/lib/python3.9/site-packages/torch/nn/functional.py:1709: UserWarning: nn.functional.sigmoid is deprecated. Use torch.sigmoid instead.\n",
      "  warnings.warn(\"nn.functional.sigmoid is deprecated. Use torch.sigmoid instead.\")\n"
     ]
    },
    {
     "name": "stdout",
     "output_type": "stream",
     "text": [
      "Neurons in hidden layer:  81\n",
      "Mean Squared Error:\n",
      "\tTraining: 145.55129654385962\n",
      "\tTesting: 138.39508848913044\n",
      "R2 Score:\n",
      "\tTraining: -3.635114625304638\n",
      "\tTesting: -3.5506561242863937\n",
      "Mean Absolute Percentage Error:\n",
      "\tTraining: 0.8768032939149797\n",
      "\tTesting: 0.8733969845701499\n",
      "\n",
      "\n",
      "\n"
     ]
    },
    {
     "name": "stderr",
     "output_type": "stream",
     "text": [
      "/home/dsapienza/anaconda3/envs/reinforcement-learning-env/lib/python3.9/site-packages/torch/nn/functional.py:1709: UserWarning: nn.functional.sigmoid is deprecated. Use torch.sigmoid instead.\n",
      "  warnings.warn(\"nn.functional.sigmoid is deprecated. Use torch.sigmoid instead.\")\n"
     ]
    },
    {
     "name": "stdout",
     "output_type": "stream",
     "text": [
      "Neurons in hidden layer:  82\n",
      "Mean Squared Error:\n",
      "\tTraining: 145.55129654385962\n",
      "\tTesting: 138.39508848913044\n",
      "R2 Score:\n",
      "\tTraining: -3.635114625304638\n",
      "\tTesting: -3.5506561242863937\n",
      "Mean Absolute Percentage Error:\n",
      "\tTraining: 0.8768032939149797\n",
      "\tTesting: 0.8733969845701499\n",
      "\n",
      "\n",
      "\n"
     ]
    },
    {
     "name": "stderr",
     "output_type": "stream",
     "text": [
      "/home/dsapienza/anaconda3/envs/reinforcement-learning-env/lib/python3.9/site-packages/torch/nn/functional.py:1709: UserWarning: nn.functional.sigmoid is deprecated. Use torch.sigmoid instead.\n",
      "  warnings.warn(\"nn.functional.sigmoid is deprecated. Use torch.sigmoid instead.\")\n"
     ]
    },
    {
     "name": "stdout",
     "output_type": "stream",
     "text": [
      "Neurons in hidden layer:  83\n",
      "Mean Squared Error:\n",
      "\tTraining: 145.55129654385962\n",
      "\tTesting: 138.39508848913044\n",
      "R2 Score:\n",
      "\tTraining: -3.635114625304638\n",
      "\tTesting: -3.5506561242863937\n",
      "Mean Absolute Percentage Error:\n",
      "\tTraining: 0.8768032939149797\n",
      "\tTesting: 0.8733969845701499\n",
      "\n",
      "\n",
      "\n"
     ]
    },
    {
     "name": "stderr",
     "output_type": "stream",
     "text": [
      "/home/dsapienza/anaconda3/envs/reinforcement-learning-env/lib/python3.9/site-packages/torch/nn/functional.py:1709: UserWarning: nn.functional.sigmoid is deprecated. Use torch.sigmoid instead.\n",
      "  warnings.warn(\"nn.functional.sigmoid is deprecated. Use torch.sigmoid instead.\")\n"
     ]
    },
    {
     "name": "stdout",
     "output_type": "stream",
     "text": [
      "Neurons in hidden layer:  84\n",
      "Mean Squared Error:\n",
      "\tTraining: 145.55129654385962\n",
      "\tTesting: 138.39508848913044\n",
      "R2 Score:\n",
      "\tTraining: -3.635114625304638\n",
      "\tTesting: -3.5506561242863937\n",
      "Mean Absolute Percentage Error:\n",
      "\tTraining: 0.8768032939149797\n",
      "\tTesting: 0.8733969845701499\n",
      "\n",
      "\n",
      "\n"
     ]
    },
    {
     "name": "stderr",
     "output_type": "stream",
     "text": [
      "/home/dsapienza/anaconda3/envs/reinforcement-learning-env/lib/python3.9/site-packages/torch/nn/functional.py:1709: UserWarning: nn.functional.sigmoid is deprecated. Use torch.sigmoid instead.\n",
      "  warnings.warn(\"nn.functional.sigmoid is deprecated. Use torch.sigmoid instead.\")\n"
     ]
    },
    {
     "name": "stdout",
     "output_type": "stream",
     "text": [
      "Neurons in hidden layer:  85\n",
      "Mean Squared Error:\n",
      "\tTraining: 145.55129654385962\n",
      "\tTesting: 138.39508848913044\n",
      "R2 Score:\n",
      "\tTraining: -3.635114625304638\n",
      "\tTesting: -3.5506561242863937\n",
      "Mean Absolute Percentage Error:\n",
      "\tTraining: 0.8768032939149797\n",
      "\tTesting: 0.8733969845701499\n",
      "\n",
      "\n",
      "\n"
     ]
    },
    {
     "name": "stderr",
     "output_type": "stream",
     "text": [
      "/home/dsapienza/anaconda3/envs/reinforcement-learning-env/lib/python3.9/site-packages/torch/nn/functional.py:1709: UserWarning: nn.functional.sigmoid is deprecated. Use torch.sigmoid instead.\n",
      "  warnings.warn(\"nn.functional.sigmoid is deprecated. Use torch.sigmoid instead.\")\n"
     ]
    },
    {
     "name": "stdout",
     "output_type": "stream",
     "text": [
      "Neurons in hidden layer:  86\n",
      "Mean Squared Error:\n",
      "\tTraining: 145.55129654385962\n",
      "\tTesting: 138.39508848913044\n",
      "R2 Score:\n",
      "\tTraining: -3.635114625304638\n",
      "\tTesting: -3.5506561242863937\n",
      "Mean Absolute Percentage Error:\n",
      "\tTraining: 0.8768032939149797\n",
      "\tTesting: 0.8733969845701499\n",
      "\n",
      "\n",
      "\n"
     ]
    },
    {
     "name": "stderr",
     "output_type": "stream",
     "text": [
      "/home/dsapienza/anaconda3/envs/reinforcement-learning-env/lib/python3.9/site-packages/torch/nn/functional.py:1709: UserWarning: nn.functional.sigmoid is deprecated. Use torch.sigmoid instead.\n",
      "  warnings.warn(\"nn.functional.sigmoid is deprecated. Use torch.sigmoid instead.\")\n"
     ]
    },
    {
     "name": "stdout",
     "output_type": "stream",
     "text": [
      "Neurons in hidden layer:  87\n",
      "Mean Squared Error:\n",
      "\tTraining: 145.55129654385962\n",
      "\tTesting: 138.39508848913044\n",
      "R2 Score:\n",
      "\tTraining: -3.635114625304638\n",
      "\tTesting: -3.5506561242863937\n",
      "Mean Absolute Percentage Error:\n",
      "\tTraining: 0.8768032939149797\n",
      "\tTesting: 0.8733969845701499\n",
      "\n",
      "\n",
      "\n"
     ]
    },
    {
     "name": "stderr",
     "output_type": "stream",
     "text": [
      "/home/dsapienza/anaconda3/envs/reinforcement-learning-env/lib/python3.9/site-packages/torch/nn/functional.py:1709: UserWarning: nn.functional.sigmoid is deprecated. Use torch.sigmoid instead.\n",
      "  warnings.warn(\"nn.functional.sigmoid is deprecated. Use torch.sigmoid instead.\")\n"
     ]
    },
    {
     "name": "stdout",
     "output_type": "stream",
     "text": [
      "Neurons in hidden layer:  88\n",
      "Mean Squared Error:\n",
      "\tTraining: 145.55129654385962\n",
      "\tTesting: 138.39508848913044\n",
      "R2 Score:\n",
      "\tTraining: -3.635114625304638\n",
      "\tTesting: -3.5506561242863937\n",
      "Mean Absolute Percentage Error:\n",
      "\tTraining: 0.8768032939149797\n",
      "\tTesting: 0.8733969845701499\n",
      "\n",
      "\n",
      "\n"
     ]
    },
    {
     "name": "stderr",
     "output_type": "stream",
     "text": [
      "/home/dsapienza/anaconda3/envs/reinforcement-learning-env/lib/python3.9/site-packages/torch/nn/functional.py:1709: UserWarning: nn.functional.sigmoid is deprecated. Use torch.sigmoid instead.\n",
      "  warnings.warn(\"nn.functional.sigmoid is deprecated. Use torch.sigmoid instead.\")\n"
     ]
    },
    {
     "name": "stdout",
     "output_type": "stream",
     "text": [
      "Neurons in hidden layer:  89\n",
      "Mean Squared Error:\n",
      "\tTraining: 145.55129654385962\n",
      "\tTesting: 138.39508848913044\n",
      "R2 Score:\n",
      "\tTraining: -3.635114625304638\n",
      "\tTesting: -3.5506561242863937\n",
      "Mean Absolute Percentage Error:\n",
      "\tTraining: 0.8768032939149797\n",
      "\tTesting: 0.8733969845701499\n",
      "\n",
      "\n",
      "\n"
     ]
    },
    {
     "name": "stderr",
     "output_type": "stream",
     "text": [
      "/home/dsapienza/anaconda3/envs/reinforcement-learning-env/lib/python3.9/site-packages/torch/nn/functional.py:1709: UserWarning: nn.functional.sigmoid is deprecated. Use torch.sigmoid instead.\n",
      "  warnings.warn(\"nn.functional.sigmoid is deprecated. Use torch.sigmoid instead.\")\n"
     ]
    },
    {
     "name": "stdout",
     "output_type": "stream",
     "text": [
      "Neurons in hidden layer:  90\n",
      "Mean Squared Error:\n",
      "\tTraining: 167.91944294434361\n",
      "\tTesting: 160.17805950362322\n",
      "R2 Score:\n",
      "\tTraining: -4.34743340901672\n",
      "\tTesting: -4.2669157223287035\n",
      "Mean Absolute Percentage Error:\n",
      "\tTraining: 1.0\n",
      "\tTesting: 1.0\n",
      "\n",
      "\n",
      "\n"
     ]
    },
    {
     "name": "stderr",
     "output_type": "stream",
     "text": [
      "/home/dsapienza/anaconda3/envs/reinforcement-learning-env/lib/python3.9/site-packages/torch/nn/functional.py:1709: UserWarning: nn.functional.sigmoid is deprecated. Use torch.sigmoid instead.\n",
      "  warnings.warn(\"nn.functional.sigmoid is deprecated. Use torch.sigmoid instead.\")\n"
     ]
    },
    {
     "name": "stdout",
     "output_type": "stream",
     "text": [
      "Neurons in hidden layer:  91\n",
      "Mean Squared Error:\n",
      "\tTraining: 145.55129654385962\n",
      "\tTesting: 138.39508848913044\n",
      "R2 Score:\n",
      "\tTraining: -3.635114625304638\n",
      "\tTesting: -3.5506561242863937\n",
      "Mean Absolute Percentage Error:\n",
      "\tTraining: 0.8768032939149797\n",
      "\tTesting: 0.8733969845701499\n",
      "\n",
      "\n",
      "\n"
     ]
    },
    {
     "name": "stderr",
     "output_type": "stream",
     "text": [
      "/home/dsapienza/anaconda3/envs/reinforcement-learning-env/lib/python3.9/site-packages/torch/nn/functional.py:1709: UserWarning: nn.functional.sigmoid is deprecated. Use torch.sigmoid instead.\n",
      "  warnings.warn(\"nn.functional.sigmoid is deprecated. Use torch.sigmoid instead.\")\n"
     ]
    },
    {
     "name": "stdout",
     "output_type": "stream",
     "text": [
      "Neurons in hidden layer:  92\n",
      "Mean Squared Error:\n",
      "\tTraining: 145.55129654385962\n",
      "\tTesting: 138.39508848913044\n",
      "R2 Score:\n",
      "\tTraining: -3.635114625304638\n",
      "\tTesting: -3.5506561242863937\n",
      "Mean Absolute Percentage Error:\n",
      "\tTraining: 0.8768032939149797\n",
      "\tTesting: 0.8733969845701499\n",
      "\n",
      "\n",
      "\n"
     ]
    },
    {
     "name": "stderr",
     "output_type": "stream",
     "text": [
      "/home/dsapienza/anaconda3/envs/reinforcement-learning-env/lib/python3.9/site-packages/torch/nn/functional.py:1709: UserWarning: nn.functional.sigmoid is deprecated. Use torch.sigmoid instead.\n",
      "  warnings.warn(\"nn.functional.sigmoid is deprecated. Use torch.sigmoid instead.\")\n"
     ]
    },
    {
     "name": "stdout",
     "output_type": "stream",
     "text": [
      "Neurons in hidden layer:  93\n",
      "Mean Squared Error:\n",
      "\tTraining: 167.91944294434361\n",
      "\tTesting: 160.17805950362322\n",
      "R2 Score:\n",
      "\tTraining: -4.34743340901672\n",
      "\tTesting: -4.2669157223287035\n",
      "Mean Absolute Percentage Error:\n",
      "\tTraining: 1.0\n",
      "\tTesting: 1.0\n",
      "\n",
      "\n",
      "\n"
     ]
    },
    {
     "name": "stderr",
     "output_type": "stream",
     "text": [
      "/home/dsapienza/anaconda3/envs/reinforcement-learning-env/lib/python3.9/site-packages/torch/nn/functional.py:1709: UserWarning: nn.functional.sigmoid is deprecated. Use torch.sigmoid instead.\n",
      "  warnings.warn(\"nn.functional.sigmoid is deprecated. Use torch.sigmoid instead.\")\n"
     ]
    },
    {
     "name": "stdout",
     "output_type": "stream",
     "text": [
      "Neurons in hidden layer:  94\n",
      "Mean Squared Error:\n",
      "\tTraining: 145.55129654385962\n",
      "\tTesting: 138.39508848913044\n",
      "R2 Score:\n",
      "\tTraining: -3.635114625304638\n",
      "\tTesting: -3.5506561242863937\n",
      "Mean Absolute Percentage Error:\n",
      "\tTraining: 0.8768032939149797\n",
      "\tTesting: 0.8733969845701499\n",
      "\n",
      "\n",
      "\n"
     ]
    },
    {
     "name": "stderr",
     "output_type": "stream",
     "text": [
      "/home/dsapienza/anaconda3/envs/reinforcement-learning-env/lib/python3.9/site-packages/torch/nn/functional.py:1709: UserWarning: nn.functional.sigmoid is deprecated. Use torch.sigmoid instead.\n",
      "  warnings.warn(\"nn.functional.sigmoid is deprecated. Use torch.sigmoid instead.\")\n"
     ]
    },
    {
     "name": "stdout",
     "output_type": "stream",
     "text": [
      "Neurons in hidden layer:  95\n",
      "Mean Squared Error:\n",
      "\tTraining: 145.55129654385962\n",
      "\tTesting: 138.39508848913044\n",
      "R2 Score:\n",
      "\tTraining: -3.635114625304638\n",
      "\tTesting: -3.5506561242863937\n",
      "Mean Absolute Percentage Error:\n",
      "\tTraining: 0.8768032939149797\n",
      "\tTesting: 0.8733969845701499\n",
      "\n",
      "\n",
      "\n"
     ]
    },
    {
     "name": "stderr",
     "output_type": "stream",
     "text": [
      "/home/dsapienza/anaconda3/envs/reinforcement-learning-env/lib/python3.9/site-packages/torch/nn/functional.py:1709: UserWarning: nn.functional.sigmoid is deprecated. Use torch.sigmoid instead.\n",
      "  warnings.warn(\"nn.functional.sigmoid is deprecated. Use torch.sigmoid instead.\")\n"
     ]
    },
    {
     "name": "stdout",
     "output_type": "stream",
     "text": [
      "Neurons in hidden layer:  96\n",
      "Mean Squared Error:\n",
      "\tTraining: 145.55129654385962\n",
      "\tTesting: 138.39508848913044\n",
      "R2 Score:\n",
      "\tTraining: -3.635114625304638\n",
      "\tTesting: -3.5506561242863937\n",
      "Mean Absolute Percentage Error:\n",
      "\tTraining: 0.8768032939149797\n",
      "\tTesting: 0.8733969845701499\n",
      "\n",
      "\n",
      "\n"
     ]
    },
    {
     "name": "stderr",
     "output_type": "stream",
     "text": [
      "/home/dsapienza/anaconda3/envs/reinforcement-learning-env/lib/python3.9/site-packages/torch/nn/functional.py:1709: UserWarning: nn.functional.sigmoid is deprecated. Use torch.sigmoid instead.\n",
      "  warnings.warn(\"nn.functional.sigmoid is deprecated. Use torch.sigmoid instead.\")\n"
     ]
    },
    {
     "name": "stdout",
     "output_type": "stream",
     "text": [
      "Neurons in hidden layer:  97\n",
      "Mean Squared Error:\n",
      "\tTraining: 167.91944294434361\n",
      "\tTesting: 160.17805950362322\n",
      "R2 Score:\n",
      "\tTraining: -4.34743340901672\n",
      "\tTesting: -4.2669157223287035\n",
      "Mean Absolute Percentage Error:\n",
      "\tTraining: 1.0\n",
      "\tTesting: 1.0\n",
      "\n",
      "\n",
      "\n"
     ]
    },
    {
     "name": "stderr",
     "output_type": "stream",
     "text": [
      "/home/dsapienza/anaconda3/envs/reinforcement-learning-env/lib/python3.9/site-packages/torch/nn/functional.py:1709: UserWarning: nn.functional.sigmoid is deprecated. Use torch.sigmoid instead.\n",
      "  warnings.warn(\"nn.functional.sigmoid is deprecated. Use torch.sigmoid instead.\")\n"
     ]
    },
    {
     "name": "stdout",
     "output_type": "stream",
     "text": [
      "Neurons in hidden layer:  98\n",
      "Mean Squared Error:\n",
      "\tTraining: 145.55129654385962\n",
      "\tTesting: 138.39508848913044\n",
      "R2 Score:\n",
      "\tTraining: -3.635114625304638\n",
      "\tTesting: -3.5506561242863937\n",
      "Mean Absolute Percentage Error:\n",
      "\tTraining: 0.8768032939149797\n",
      "\tTesting: 0.8733969845701499\n",
      "\n",
      "\n",
      "\n"
     ]
    },
    {
     "name": "stderr",
     "output_type": "stream",
     "text": [
      "/home/dsapienza/anaconda3/envs/reinforcement-learning-env/lib/python3.9/site-packages/torch/nn/functional.py:1709: UserWarning: nn.functional.sigmoid is deprecated. Use torch.sigmoid instead.\n",
      "  warnings.warn(\"nn.functional.sigmoid is deprecated. Use torch.sigmoid instead.\")\n"
     ]
    },
    {
     "name": "stdout",
     "output_type": "stream",
     "text": [
      "Neurons in hidden layer:  99\n",
      "Mean Squared Error:\n",
      "\tTraining: 145.55129654385962\n",
      "\tTesting: 138.39508848913044\n",
      "R2 Score:\n",
      "\tTraining: -3.635114625304638\n",
      "\tTesting: -3.5506561242863937\n",
      "Mean Absolute Percentage Error:\n",
      "\tTraining: 0.8768032939149797\n",
      "\tTesting: 0.8733969845701499\n",
      "\n",
      "\n",
      "\n"
     ]
    },
    {
     "name": "stderr",
     "output_type": "stream",
     "text": [
      "/home/dsapienza/anaconda3/envs/reinforcement-learning-env/lib/python3.9/site-packages/torch/nn/functional.py:1709: UserWarning: nn.functional.sigmoid is deprecated. Use torch.sigmoid instead.\n",
      "  warnings.warn(\"nn.functional.sigmoid is deprecated. Use torch.sigmoid instead.\")\n"
     ]
    },
    {
     "name": "stdout",
     "output_type": "stream",
     "text": [
      "Neurons in hidden layer:  100\n",
      "Mean Squared Error:\n",
      "\tTraining: 145.55129654385962\n",
      "\tTesting: 138.39508848913044\n",
      "R2 Score:\n",
      "\tTraining: -3.635114625304638\n",
      "\tTesting: -3.5506561242863937\n",
      "Mean Absolute Percentage Error:\n",
      "\tTraining: 0.8768032939149797\n",
      "\tTesting: 0.8733969845701499\n",
      "\n",
      "\n",
      "\n"
     ]
    },
    {
     "data": {
      "image/png": "[encoded data removed]",
      "text/plain": [
       "<Figure size 432x288 with 1 Axes>"
      ]
     },
     "metadata": {
      "needs_background": "light"
     },
     "output_type": "display_data"
    },
    {
     "data": {
      "image/png": "[encoded data removed]",
      "text/plain": [
       "<Figure size 432x288 with 1 Axes>"
      ]
     },
     "metadata": {
      "needs_background": "light"
     },
     "output_type": "display_data"
    },
    {
     "data": {
      "image/png": "[encoded data removed]",
      "text/plain": [
       "<Figure size 432x288 with 1 Axes>"
      ]
     },
     "metadata": {
      "needs_background": "light"
     },
     "output_type": "display_data"
    },
    {
     "data": {
      "image/png": "[encoded data removed]",
      "text/plain": [
       "<Figure size 432x288 with 1 Axes>"
      ]
     },
     "metadata": {
      "needs_background": "light"
     },
     "output_type": "display_data"
    },
    {
     "name": "stdout",
     "output_type": "stream",
     "text": [
      "Maximum Values and Neuron Count:\n",
      "\tMean Absolute Percentage Error Training Data:  1.0\n",
      "\tNeuron Count:  10\n",
      "\tMean Absolute Percentage Error Testing Data:  1.0\n",
      "\tNeuron Count:  10\n",
      "\tR2 Score Training Data:  3.635114625304638\n",
      "\tNeuron Count:  0\n",
      "\tR2 Score Testing Data:  3.5506561242863937\n",
      "\tNeuron Count:  0\n"
     ]
    }
   ],
   "source": [
    "# Create 100 different models with a different neuron \n",
    "# count in the only hidden layer\n",
    "\n",
    "# Create Models\n",
    "MODEL_COUNT = 100\n",
    "\n",
    "models = []\n",
    "for i in range(MODEL_COUNT):\n",
    "    models.append(RegressionModel(3, 1, [i+1]))\n",
    "\n",
    "#training for non-linear regression\n",
    "EPOCHS = 10\n",
    "\n",
    "mape_trn = []\n",
    "mape_tst = []\n",
    "r2_trn = []\n",
    "r2_tst = []\n",
    "for i in range(len(models)):\n",
    "    model = models[i]\n",
    "    neuron_count = i+1\n",
    "    for epoch in range(EPOCHS):\n",
    "        y_pred_e = []\n",
    "        for i in range(len(X_trn)):\n",
    "            x = T.from_numpy(X_trn[i]).float()\n",
    "            y = T.from_numpy(Y_trn[i]).float()\n",
    "            \n",
    "            pred_y = model(x)\n",
    "            y_pred_e.append(pred_y.item())\n",
    "            \n",
    "            loss = model.criterion(pred_y, y)\n",
    "\n",
    "            model.optimizer.zero_grad()\n",
    "            loss.backward()\n",
    "            model.optimizer.step()\n",
    "            #print('epoch {}, loss {}'.format(epoch, loss.item()))\n",
    "        y_pred_trn = y_pred_e\n",
    "\n",
    "    #testing for linear regression\n",
    "    y_pred_tst = []\n",
    "    for x in X_tst:\n",
    "        pred = model(T.from_numpy(x).float()).item()\n",
    "        y_pred_tst.append(pred)\n",
    "    \n",
    "    print(\"Neurons in hidden layer: \", neuron_count)\n",
    "    print(\"Mean Squared Error:\")\n",
    "    print(\"\\tTraining:\", mean_squared_error(Y_trn, y_pred_trn))\n",
    "    print(\"\\tTesting:\", mean_squared_error(Y_tst, y_pred_tst))\n",
    "\n",
    "    print(\"R2 Score:\")\n",
    "    print(\"\\tTraining:\", r2_score(Y_trn, y_pred_trn))\n",
    "    r2_trn.append(r2_score(Y_trn, y_pred_trn))\n",
    "    print(\"\\tTesting:\", r2_score(Y_tst, y_pred_tst))\n",
    "    r2_tst.append(r2_score(Y_tst, y_pred_tst))\n",
    "    \n",
    "    print(\"Mean Absolute Percentage Error:\")\n",
    "    print(\"\\tTraining:\", mean_absolute_percentage_error(Y_trn, y_pred_trn))\n",
    "    mape_trn.append(mean_absolute_percentage_error(Y_trn, y_pred_trn))\n",
    "    print(\"\\tTesting:\", mean_absolute_percentage_error(Y_tst, y_pred_tst))\n",
    "    mape_tst.append(mean_absolute_percentage_error(Y_tst, y_pred_tst))\n",
    "    print(\"\\n\\n\")\n",
    "\n",
    "#Graph results from all models\n",
    "fig1, ax1 = plt.subplots()\n",
    "ax1.plot(mape_trn)\n",
    "ax1.title.set_text(\"Mean Absolute Percentage Error: Training Data\")\n",
    "ax1.set(ylabel=\"MAPE\", xlabel=\"Neurons\")\n",
    "\n",
    "fig2, ax2 = plt.subplots()\n",
    "ax2.plot(mape_tst)\n",
    "ax2.title.set_text(\"Mean Absolute Percentage Error: Testing Data\")\n",
    "ax2.set(ylabel=\"MAPE\", xlabel=\"Neurons\")\n",
    "\n",
    "fig3, ax3 = plt.subplots()\n",
    "ax3.plot(r2_trn)\n",
    "ax3.title.set_text(\"R2 Score: Training Data\")\n",
    "ax3.set(ylabel=\"R2 Score\", xlabel=\"Neurons\")\n",
    "\n",
    "fig4, ax4 = plt.subplots()\n",
    "ax4.plot(r2_tst)\n",
    "ax4.title.set_text(\"R2 Score: Testing Data\")\n",
    "ax4.set(ylabel=\"R2 Score\", xlabel=\"Neurons\")\n",
    "plt.show()\n",
    "\n",
    "print(\"Maximum Values and Neuron Count:\")\n",
    "print(\"\\tMean Absolute Percentage Error Training Data: \", max(mape_trn))\n",
    "print(\"\\tNeuron Count: \", mape_trn.index(max(mape_trn)))\n",
    "print(\"\\tMean Absolute Percentage Error Testing Data: \", max(mape_tst))\n",
    "print(\"\\tNeuron Count: \", mape_tst.index(max(mape_tst)))\n",
    "\n",
    "for i in range(len(r2_trn)):\n",
    "    r2_trn[i] = abs(r2_trn[i])\n",
    "print(\"\\tR2 Score Training Data: \", min(r2_trn))\n",
    "print(\"\\tNeuron Count: \", r2_trn.index(min(r2_trn)))\n",
    "\n",
    "for i in range(len(r2_tst)):\n",
    "    r2_tst[i] = abs(r2_tst[i])\n",
    "print(\"\\tR2 Score Testing Data: \", min(r2_tst))\n",
    "print(\"\\tNeuron Count: \", r2_tst.index(min(r2_tst)))"
   ]
  },
  {
   "cell_type": "code",
   "execution_count": null,
   "id": "7a8e0005",
   "metadata": {},
   "outputs": [],
   "source": []
  }
 ],
 "metadata": {
  "kernelspec": {
   "display_name": "reinforcement-learning-env",
   "language": "python",
   "name": "reinforcement-learning-env"
  },
  "language_info": {
   "codemirror_mode": {
    "name": "ipython",
    "version": 3
   },
   "file_extension": ".py",
   "mimetype": "text/x-python",
   "name": "python",
   "nbconvert_exporter": "python",
   "pygments_lexer": "ipython3",
   "version": "3.9.7"
  }
 },
 "nbformat": 4,
 "nbformat_minor": 5
}
